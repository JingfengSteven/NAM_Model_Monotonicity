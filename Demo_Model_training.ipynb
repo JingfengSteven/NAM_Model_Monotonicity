{
  "nbformat": 4,
  "nbformat_minor": 0,
  "metadata": {
    "colab": {
      "provenance": [],
      "toc_visible": true
    },
    "kernelspec": {
      "name": "python3",
      "display_name": "Python 3"
    },
    "language_info": {
      "name": "python"
    }
  },
  "cells": [
    {
      "cell_type": "code",
      "execution_count": 28,
      "metadata": {
        "id": "qo1nRgfgxUi6",
        "colab": {
          "base_uri": "https://localhost:8080/"
        },
        "outputId": "d3d0ec47-e098-4b80-b922-8fb4adc01684"
      },
      "outputs": [
        {
          "output_type": "stream",
          "name": "stdout",
          "text": [
            "fatal: destination path 'givemesomecredit' already exists and is not an empty directory.\n"
          ]
        }
      ],
      "source": [
        "!git clone https://github.com/JingfengSteven/givemesomecredit"
      ]
    },
    {
      "cell_type": "code",
      "source": [
        "import tensorflow.compat.v2 as tf\n",
        "tf.enable_v2_behavior()\n",
        "from givemesomecredit import models as nam_models\n",
        "import os.path as osp\n",
        "import numpy as np\n",
        "import matplotlib.pyplot as plt\n",
        "import pandas as pd\n",
        "from sklearn.preprocessing import StandardScaler\n",
        "from sklearn import preprocessing\n",
        "from sklearn.model_selection import train_test_split\n",
        "import sklearn"
      ],
      "metadata": {
        "id": "HLfM9Fl4x9q6"
      },
      "execution_count": 29,
      "outputs": []
    },
    {
      "cell_type": "markdown",
      "source": [
        "##Data reading"
      ],
      "metadata": {
        "id": "3tMMDGA_lsNs"
      }
    },
    {
      "cell_type": "code",
      "source": [
        "orgdata=pd.read_csv(\"givemesomecredit/cs-training.csv\")\n",
        "orgdata=orgdata.dropna(axis=0)\n",
        "orgdata.head()"
      ],
      "metadata": {
        "id": "2Qaq9hxtyEYW",
        "colab": {
          "base_uri": "https://localhost:8080/",
          "height": 288
        },
        "outputId": "04e533e8-6436-459f-9c1c-14c8232a26fe"
      },
      "execution_count": 30,
      "outputs": [
        {
          "output_type": "execute_result",
          "data": {
            "text/plain": [
              "   Unnamed: 0  SeriousDlqin2yrs  RevolvingUtilizationOfUnsecuredLines  age  \\\n",
              "0           1                 1                              0.766127   45   \n",
              "1           2                 0                              0.957151   40   \n",
              "2           3                 0                              0.658180   38   \n",
              "3           4                 0                              0.233810   30   \n",
              "4           5                 0                              0.907239   49   \n",
              "\n",
              "   NumberOfTime30-59DaysPastDueNotWorse  DebtRatio  MonthlyIncome  \\\n",
              "0                                     2   0.802982         9120.0   \n",
              "1                                     0   0.121876         2600.0   \n",
              "2                                     1   0.085113         3042.0   \n",
              "3                                     0   0.036050         3300.0   \n",
              "4                                     1   0.024926        63588.0   \n",
              "\n",
              "   NumberOfOpenCreditLinesAndLoans  NumberOfTimes90DaysLate  \\\n",
              "0                               13                        0   \n",
              "1                                4                        0   \n",
              "2                                2                        1   \n",
              "3                                5                        0   \n",
              "4                                7                        0   \n",
              "\n",
              "   NumberRealEstateLoansOrLines  NumberOfTime60-89DaysPastDueNotWorse  \\\n",
              "0                             6                                     0   \n",
              "1                             0                                     0   \n",
              "2                             0                                     0   \n",
              "3                             0                                     0   \n",
              "4                             1                                     0   \n",
              "\n",
              "   NumberOfDependents  \n",
              "0                 2.0  \n",
              "1                 1.0  \n",
              "2                 0.0  \n",
              "3                 0.0  \n",
              "4                 0.0  "
            ],
            "text/html": [
              "\n",
              "\n",
              "  <div id=\"df-332b0ad0-4488-4009-94bc-65c12695566d\">\n",
              "    <div class=\"colab-df-container\">\n",
              "      <div>\n",
              "<style scoped>\n",
              "    .dataframe tbody tr th:only-of-type {\n",
              "        vertical-align: middle;\n",
              "    }\n",
              "\n",
              "    .dataframe tbody tr th {\n",
              "        vertical-align: top;\n",
              "    }\n",
              "\n",
              "    .dataframe thead th {\n",
              "        text-align: right;\n",
              "    }\n",
              "</style>\n",
              "<table border=\"1\" class=\"dataframe\">\n",
              "  <thead>\n",
              "    <tr style=\"text-align: right;\">\n",
              "      <th></th>\n",
              "      <th>Unnamed: 0</th>\n",
              "      <th>SeriousDlqin2yrs</th>\n",
              "      <th>RevolvingUtilizationOfUnsecuredLines</th>\n",
              "      <th>age</th>\n",
              "      <th>NumberOfTime30-59DaysPastDueNotWorse</th>\n",
              "      <th>DebtRatio</th>\n",
              "      <th>MonthlyIncome</th>\n",
              "      <th>NumberOfOpenCreditLinesAndLoans</th>\n",
              "      <th>NumberOfTimes90DaysLate</th>\n",
              "      <th>NumberRealEstateLoansOrLines</th>\n",
              "      <th>NumberOfTime60-89DaysPastDueNotWorse</th>\n",
              "      <th>NumberOfDependents</th>\n",
              "    </tr>\n",
              "  </thead>\n",
              "  <tbody>\n",
              "    <tr>\n",
              "      <th>0</th>\n",
              "      <td>1</td>\n",
              "      <td>1</td>\n",
              "      <td>0.766127</td>\n",
              "      <td>45</td>\n",
              "      <td>2</td>\n",
              "      <td>0.802982</td>\n",
              "      <td>9120.0</td>\n",
              "      <td>13</td>\n",
              "      <td>0</td>\n",
              "      <td>6</td>\n",
              "      <td>0</td>\n",
              "      <td>2.0</td>\n",
              "    </tr>\n",
              "    <tr>\n",
              "      <th>1</th>\n",
              "      <td>2</td>\n",
              "      <td>0</td>\n",
              "      <td>0.957151</td>\n",
              "      <td>40</td>\n",
              "      <td>0</td>\n",
              "      <td>0.121876</td>\n",
              "      <td>2600.0</td>\n",
              "      <td>4</td>\n",
              "      <td>0</td>\n",
              "      <td>0</td>\n",
              "      <td>0</td>\n",
              "      <td>1.0</td>\n",
              "    </tr>\n",
              "    <tr>\n",
              "      <th>2</th>\n",
              "      <td>3</td>\n",
              "      <td>0</td>\n",
              "      <td>0.658180</td>\n",
              "      <td>38</td>\n",
              "      <td>1</td>\n",
              "      <td>0.085113</td>\n",
              "      <td>3042.0</td>\n",
              "      <td>2</td>\n",
              "      <td>1</td>\n",
              "      <td>0</td>\n",
              "      <td>0</td>\n",
              "      <td>0.0</td>\n",
              "    </tr>\n",
              "    <tr>\n",
              "      <th>3</th>\n",
              "      <td>4</td>\n",
              "      <td>0</td>\n",
              "      <td>0.233810</td>\n",
              "      <td>30</td>\n",
              "      <td>0</td>\n",
              "      <td>0.036050</td>\n",
              "      <td>3300.0</td>\n",
              "      <td>5</td>\n",
              "      <td>0</td>\n",
              "      <td>0</td>\n",
              "      <td>0</td>\n",
              "      <td>0.0</td>\n",
              "    </tr>\n",
              "    <tr>\n",
              "      <th>4</th>\n",
              "      <td>5</td>\n",
              "      <td>0</td>\n",
              "      <td>0.907239</td>\n",
              "      <td>49</td>\n",
              "      <td>1</td>\n",
              "      <td>0.024926</td>\n",
              "      <td>63588.0</td>\n",
              "      <td>7</td>\n",
              "      <td>0</td>\n",
              "      <td>1</td>\n",
              "      <td>0</td>\n",
              "      <td>0.0</td>\n",
              "    </tr>\n",
              "  </tbody>\n",
              "</table>\n",
              "</div>\n",
              "      <button class=\"colab-df-convert\" onclick=\"convertToInteractive('df-332b0ad0-4488-4009-94bc-65c12695566d')\"\n",
              "              title=\"Convert this dataframe to an interactive table.\"\n",
              "              style=\"display:none;\">\n",
              "\n",
              "  <svg xmlns=\"http://www.w3.org/2000/svg\" height=\"24px\"viewBox=\"0 0 24 24\"\n",
              "       width=\"24px\">\n",
              "    <path d=\"M0 0h24v24H0V0z\" fill=\"none\"/>\n",
              "    <path d=\"M18.56 5.44l.94 2.06.94-2.06 2.06-.94-2.06-.94-.94-2.06-.94 2.06-2.06.94zm-11 1L8.5 8.5l.94-2.06 2.06-.94-2.06-.94L8.5 2.5l-.94 2.06-2.06.94zm10 10l.94 2.06.94-2.06 2.06-.94-2.06-.94-.94-2.06-.94 2.06-2.06.94z\"/><path d=\"M17.41 7.96l-1.37-1.37c-.4-.4-.92-.59-1.43-.59-.52 0-1.04.2-1.43.59L10.3 9.45l-7.72 7.72c-.78.78-.78 2.05 0 2.83L4 21.41c.39.39.9.59 1.41.59.51 0 1.02-.2 1.41-.59l7.78-7.78 2.81-2.81c.8-.78.8-2.07 0-2.86zM5.41 20L4 18.59l7.72-7.72 1.47 1.35L5.41 20z\"/>\n",
              "  </svg>\n",
              "      </button>\n",
              "\n",
              "\n",
              "\n",
              "    <div id=\"df-f6da6a98-f761-4fe5-a8e7-ebd2fdba1b93\">\n",
              "      <button class=\"colab-df-quickchart\" onclick=\"quickchart('df-f6da6a98-f761-4fe5-a8e7-ebd2fdba1b93')\"\n",
              "              title=\"Suggest charts.\"\n",
              "              style=\"display:none;\">\n",
              "\n",
              "<svg xmlns=\"http://www.w3.org/2000/svg\" height=\"24px\"viewBox=\"0 0 24 24\"\n",
              "     width=\"24px\">\n",
              "    <g>\n",
              "        <path d=\"M19 3H5c-1.1 0-2 .9-2 2v14c0 1.1.9 2 2 2h14c1.1 0 2-.9 2-2V5c0-1.1-.9-2-2-2zM9 17H7v-7h2v7zm4 0h-2V7h2v10zm4 0h-2v-4h2v4z\"/>\n",
              "    </g>\n",
              "</svg>\n",
              "      </button>\n",
              "    </div>\n",
              "\n",
              "<style>\n",
              "  .colab-df-quickchart {\n",
              "    background-color: #E8F0FE;\n",
              "    border: none;\n",
              "    border-radius: 50%;\n",
              "    cursor: pointer;\n",
              "    display: none;\n",
              "    fill: #1967D2;\n",
              "    height: 32px;\n",
              "    padding: 0 0 0 0;\n",
              "    width: 32px;\n",
              "  }\n",
              "\n",
              "  .colab-df-quickchart:hover {\n",
              "    background-color: #E2EBFA;\n",
              "    box-shadow: 0px 1px 2px rgba(60, 64, 67, 0.3), 0px 1px 3px 1px rgba(60, 64, 67, 0.15);\n",
              "    fill: #174EA6;\n",
              "  }\n",
              "\n",
              "  [theme=dark] .colab-df-quickchart {\n",
              "    background-color: #3B4455;\n",
              "    fill: #D2E3FC;\n",
              "  }\n",
              "\n",
              "  [theme=dark] .colab-df-quickchart:hover {\n",
              "    background-color: #434B5C;\n",
              "    box-shadow: 0px 1px 3px 1px rgba(0, 0, 0, 0.15);\n",
              "    filter: drop-shadow(0px 1px 2px rgba(0, 0, 0, 0.3));\n",
              "    fill: #FFFFFF;\n",
              "  }\n",
              "</style>\n",
              "\n",
              "    <script>\n",
              "      async function quickchart(key) {\n",
              "        const containerElement = document.querySelector('#' + key);\n",
              "        const charts = await google.colab.kernel.invokeFunction(\n",
              "            'suggestCharts', [key], {});\n",
              "      }\n",
              "    </script>\n",
              "\n",
              "      <script>\n",
              "\n",
              "function displayQuickchartButton(domScope) {\n",
              "  let quickchartButtonEl =\n",
              "    domScope.querySelector('#df-f6da6a98-f761-4fe5-a8e7-ebd2fdba1b93 button.colab-df-quickchart');\n",
              "  quickchartButtonEl.style.display =\n",
              "    google.colab.kernel.accessAllowed ? 'block' : 'none';\n",
              "}\n",
              "\n",
              "        displayQuickchartButton(document);\n",
              "      </script>\n",
              "      <style>\n",
              "    .colab-df-container {\n",
              "      display:flex;\n",
              "      flex-wrap:wrap;\n",
              "      gap: 12px;\n",
              "    }\n",
              "\n",
              "    .colab-df-convert {\n",
              "      background-color: #E8F0FE;\n",
              "      border: none;\n",
              "      border-radius: 50%;\n",
              "      cursor: pointer;\n",
              "      display: none;\n",
              "      fill: #1967D2;\n",
              "      height: 32px;\n",
              "      padding: 0 0 0 0;\n",
              "      width: 32px;\n",
              "    }\n",
              "\n",
              "    .colab-df-convert:hover {\n",
              "      background-color: #E2EBFA;\n",
              "      box-shadow: 0px 1px 2px rgba(60, 64, 67, 0.3), 0px 1px 3px 1px rgba(60, 64, 67, 0.15);\n",
              "      fill: #174EA6;\n",
              "    }\n",
              "\n",
              "    [theme=dark] .colab-df-convert {\n",
              "      background-color: #3B4455;\n",
              "      fill: #D2E3FC;\n",
              "    }\n",
              "\n",
              "    [theme=dark] .colab-df-convert:hover {\n",
              "      background-color: #434B5C;\n",
              "      box-shadow: 0px 1px 3px 1px rgba(0, 0, 0, 0.15);\n",
              "      filter: drop-shadow(0px 1px 2px rgba(0, 0, 0, 0.3));\n",
              "      fill: #FFFFFF;\n",
              "    }\n",
              "  </style>\n",
              "\n",
              "      <script>\n",
              "        const buttonEl =\n",
              "          document.querySelector('#df-332b0ad0-4488-4009-94bc-65c12695566d button.colab-df-convert');\n",
              "        buttonEl.style.display =\n",
              "          google.colab.kernel.accessAllowed ? 'block' : 'none';\n",
              "\n",
              "        async function convertToInteractive(key) {\n",
              "          const element = document.querySelector('#df-332b0ad0-4488-4009-94bc-65c12695566d');\n",
              "          const dataTable =\n",
              "            await google.colab.kernel.invokeFunction('convertToInteractive',\n",
              "                                                     [key], {});\n",
              "          if (!dataTable) return;\n",
              "\n",
              "          const docLinkHtml = 'Like what you see? Visit the ' +\n",
              "            '<a target=\"_blank\" href=https://colab.research.google.com/notebooks/data_table.ipynb>data table notebook</a>'\n",
              "            + ' to learn more about interactive tables.';\n",
              "          element.innerHTML = '';\n",
              "          dataTable['output_type'] = 'display_data';\n",
              "          await google.colab.output.renderOutput(dataTable, element);\n",
              "          const docLink = document.createElement('div');\n",
              "          docLink.innerHTML = docLinkHtml;\n",
              "          element.appendChild(docLink);\n",
              "        }\n",
              "      </script>\n",
              "    </div>\n",
              "  </div>\n"
            ]
          },
          "metadata": {},
          "execution_count": 30
        }
      ]
    },
    {
      "cell_type": "code",
      "source": [
        "data=orgdata"
      ],
      "metadata": {
        "id": "iL5BJqo_5wVe"
      },
      "execution_count": 31,
      "outputs": []
    },
    {
      "cell_type": "code",
      "source": [
        "x=data.iloc[:,2:data.shape[1]]\n",
        "y=data.iloc[:,1]\n",
        "x.insert(data.shape[1]-2, 'label', y)\n",
        "x.head()"
      ],
      "metadata": {
        "colab": {
          "base_uri": "https://localhost:8080/",
          "height": 288
        },
        "id": "s7aoL1mO1tJK",
        "outputId": "787a739e-5639-42fa-9661-3bb405eddca4"
      },
      "execution_count": 32,
      "outputs": [
        {
          "output_type": "execute_result",
          "data": {
            "text/plain": [
              "   RevolvingUtilizationOfUnsecuredLines  age  \\\n",
              "0                              0.766127   45   \n",
              "1                              0.957151   40   \n",
              "2                              0.658180   38   \n",
              "3                              0.233810   30   \n",
              "4                              0.907239   49   \n",
              "\n",
              "   NumberOfTime30-59DaysPastDueNotWorse  DebtRatio  MonthlyIncome  \\\n",
              "0                                     2   0.802982         9120.0   \n",
              "1                                     0   0.121876         2600.0   \n",
              "2                                     1   0.085113         3042.0   \n",
              "3                                     0   0.036050         3300.0   \n",
              "4                                     1   0.024926        63588.0   \n",
              "\n",
              "   NumberOfOpenCreditLinesAndLoans  NumberOfTimes90DaysLate  \\\n",
              "0                               13                        0   \n",
              "1                                4                        0   \n",
              "2                                2                        1   \n",
              "3                                5                        0   \n",
              "4                                7                        0   \n",
              "\n",
              "   NumberRealEstateLoansOrLines  NumberOfTime60-89DaysPastDueNotWorse  \\\n",
              "0                             6                                     0   \n",
              "1                             0                                     0   \n",
              "2                             0                                     0   \n",
              "3                             0                                     0   \n",
              "4                             1                                     0   \n",
              "\n",
              "   NumberOfDependents  label  \n",
              "0                 2.0      1  \n",
              "1                 1.0      0  \n",
              "2                 0.0      0  \n",
              "3                 0.0      0  \n",
              "4                 0.0      0  "
            ],
            "text/html": [
              "\n",
              "\n",
              "  <div id=\"df-6f12e261-9dcf-446e-a55f-c6649a51a682\">\n",
              "    <div class=\"colab-df-container\">\n",
              "      <div>\n",
              "<style scoped>\n",
              "    .dataframe tbody tr th:only-of-type {\n",
              "        vertical-align: middle;\n",
              "    }\n",
              "\n",
              "    .dataframe tbody tr th {\n",
              "        vertical-align: top;\n",
              "    }\n",
              "\n",
              "    .dataframe thead th {\n",
              "        text-align: right;\n",
              "    }\n",
              "</style>\n",
              "<table border=\"1\" class=\"dataframe\">\n",
              "  <thead>\n",
              "    <tr style=\"text-align: right;\">\n",
              "      <th></th>\n",
              "      <th>RevolvingUtilizationOfUnsecuredLines</th>\n",
              "      <th>age</th>\n",
              "      <th>NumberOfTime30-59DaysPastDueNotWorse</th>\n",
              "      <th>DebtRatio</th>\n",
              "      <th>MonthlyIncome</th>\n",
              "      <th>NumberOfOpenCreditLinesAndLoans</th>\n",
              "      <th>NumberOfTimes90DaysLate</th>\n",
              "      <th>NumberRealEstateLoansOrLines</th>\n",
              "      <th>NumberOfTime60-89DaysPastDueNotWorse</th>\n",
              "      <th>NumberOfDependents</th>\n",
              "      <th>label</th>\n",
              "    </tr>\n",
              "  </thead>\n",
              "  <tbody>\n",
              "    <tr>\n",
              "      <th>0</th>\n",
              "      <td>0.766127</td>\n",
              "      <td>45</td>\n",
              "      <td>2</td>\n",
              "      <td>0.802982</td>\n",
              "      <td>9120.0</td>\n",
              "      <td>13</td>\n",
              "      <td>0</td>\n",
              "      <td>6</td>\n",
              "      <td>0</td>\n",
              "      <td>2.0</td>\n",
              "      <td>1</td>\n",
              "    </tr>\n",
              "    <tr>\n",
              "      <th>1</th>\n",
              "      <td>0.957151</td>\n",
              "      <td>40</td>\n",
              "      <td>0</td>\n",
              "      <td>0.121876</td>\n",
              "      <td>2600.0</td>\n",
              "      <td>4</td>\n",
              "      <td>0</td>\n",
              "      <td>0</td>\n",
              "      <td>0</td>\n",
              "      <td>1.0</td>\n",
              "      <td>0</td>\n",
              "    </tr>\n",
              "    <tr>\n",
              "      <th>2</th>\n",
              "      <td>0.658180</td>\n",
              "      <td>38</td>\n",
              "      <td>1</td>\n",
              "      <td>0.085113</td>\n",
              "      <td>3042.0</td>\n",
              "      <td>2</td>\n",
              "      <td>1</td>\n",
              "      <td>0</td>\n",
              "      <td>0</td>\n",
              "      <td>0.0</td>\n",
              "      <td>0</td>\n",
              "    </tr>\n",
              "    <tr>\n",
              "      <th>3</th>\n",
              "      <td>0.233810</td>\n",
              "      <td>30</td>\n",
              "      <td>0</td>\n",
              "      <td>0.036050</td>\n",
              "      <td>3300.0</td>\n",
              "      <td>5</td>\n",
              "      <td>0</td>\n",
              "      <td>0</td>\n",
              "      <td>0</td>\n",
              "      <td>0.0</td>\n",
              "      <td>0</td>\n",
              "    </tr>\n",
              "    <tr>\n",
              "      <th>4</th>\n",
              "      <td>0.907239</td>\n",
              "      <td>49</td>\n",
              "      <td>1</td>\n",
              "      <td>0.024926</td>\n",
              "      <td>63588.0</td>\n",
              "      <td>7</td>\n",
              "      <td>0</td>\n",
              "      <td>1</td>\n",
              "      <td>0</td>\n",
              "      <td>0.0</td>\n",
              "      <td>0</td>\n",
              "    </tr>\n",
              "  </tbody>\n",
              "</table>\n",
              "</div>\n",
              "      <button class=\"colab-df-convert\" onclick=\"convertToInteractive('df-6f12e261-9dcf-446e-a55f-c6649a51a682')\"\n",
              "              title=\"Convert this dataframe to an interactive table.\"\n",
              "              style=\"display:none;\">\n",
              "\n",
              "  <svg xmlns=\"http://www.w3.org/2000/svg\" height=\"24px\"viewBox=\"0 0 24 24\"\n",
              "       width=\"24px\">\n",
              "    <path d=\"M0 0h24v24H0V0z\" fill=\"none\"/>\n",
              "    <path d=\"M18.56 5.44l.94 2.06.94-2.06 2.06-.94-2.06-.94-.94-2.06-.94 2.06-2.06.94zm-11 1L8.5 8.5l.94-2.06 2.06-.94-2.06-.94L8.5 2.5l-.94 2.06-2.06.94zm10 10l.94 2.06.94-2.06 2.06-.94-2.06-.94-.94-2.06-.94 2.06-2.06.94z\"/><path d=\"M17.41 7.96l-1.37-1.37c-.4-.4-.92-.59-1.43-.59-.52 0-1.04.2-1.43.59L10.3 9.45l-7.72 7.72c-.78.78-.78 2.05 0 2.83L4 21.41c.39.39.9.59 1.41.59.51 0 1.02-.2 1.41-.59l7.78-7.78 2.81-2.81c.8-.78.8-2.07 0-2.86zM5.41 20L4 18.59l7.72-7.72 1.47 1.35L5.41 20z\"/>\n",
              "  </svg>\n",
              "      </button>\n",
              "\n",
              "\n",
              "\n",
              "    <div id=\"df-80604cd8-ee2e-4bce-a3aa-28b785f60159\">\n",
              "      <button class=\"colab-df-quickchart\" onclick=\"quickchart('df-80604cd8-ee2e-4bce-a3aa-28b785f60159')\"\n",
              "              title=\"Suggest charts.\"\n",
              "              style=\"display:none;\">\n",
              "\n",
              "<svg xmlns=\"http://www.w3.org/2000/svg\" height=\"24px\"viewBox=\"0 0 24 24\"\n",
              "     width=\"24px\">\n",
              "    <g>\n",
              "        <path d=\"M19 3H5c-1.1 0-2 .9-2 2v14c0 1.1.9 2 2 2h14c1.1 0 2-.9 2-2V5c0-1.1-.9-2-2-2zM9 17H7v-7h2v7zm4 0h-2V7h2v10zm4 0h-2v-4h2v4z\"/>\n",
              "    </g>\n",
              "</svg>\n",
              "      </button>\n",
              "    </div>\n",
              "\n",
              "<style>\n",
              "  .colab-df-quickchart {\n",
              "    background-color: #E8F0FE;\n",
              "    border: none;\n",
              "    border-radius: 50%;\n",
              "    cursor: pointer;\n",
              "    display: none;\n",
              "    fill: #1967D2;\n",
              "    height: 32px;\n",
              "    padding: 0 0 0 0;\n",
              "    width: 32px;\n",
              "  }\n",
              "\n",
              "  .colab-df-quickchart:hover {\n",
              "    background-color: #E2EBFA;\n",
              "    box-shadow: 0px 1px 2px rgba(60, 64, 67, 0.3), 0px 1px 3px 1px rgba(60, 64, 67, 0.15);\n",
              "    fill: #174EA6;\n",
              "  }\n",
              "\n",
              "  [theme=dark] .colab-df-quickchart {\n",
              "    background-color: #3B4455;\n",
              "    fill: #D2E3FC;\n",
              "  }\n",
              "\n",
              "  [theme=dark] .colab-df-quickchart:hover {\n",
              "    background-color: #434B5C;\n",
              "    box-shadow: 0px 1px 3px 1px rgba(0, 0, 0, 0.15);\n",
              "    filter: drop-shadow(0px 1px 2px rgba(0, 0, 0, 0.3));\n",
              "    fill: #FFFFFF;\n",
              "  }\n",
              "</style>\n",
              "\n",
              "    <script>\n",
              "      async function quickchart(key) {\n",
              "        const containerElement = document.querySelector('#' + key);\n",
              "        const charts = await google.colab.kernel.invokeFunction(\n",
              "            'suggestCharts', [key], {});\n",
              "      }\n",
              "    </script>\n",
              "\n",
              "      <script>\n",
              "\n",
              "function displayQuickchartButton(domScope) {\n",
              "  let quickchartButtonEl =\n",
              "    domScope.querySelector('#df-80604cd8-ee2e-4bce-a3aa-28b785f60159 button.colab-df-quickchart');\n",
              "  quickchartButtonEl.style.display =\n",
              "    google.colab.kernel.accessAllowed ? 'block' : 'none';\n",
              "}\n",
              "\n",
              "        displayQuickchartButton(document);\n",
              "      </script>\n",
              "      <style>\n",
              "    .colab-df-container {\n",
              "      display:flex;\n",
              "      flex-wrap:wrap;\n",
              "      gap: 12px;\n",
              "    }\n",
              "\n",
              "    .colab-df-convert {\n",
              "      background-color: #E8F0FE;\n",
              "      border: none;\n",
              "      border-radius: 50%;\n",
              "      cursor: pointer;\n",
              "      display: none;\n",
              "      fill: #1967D2;\n",
              "      height: 32px;\n",
              "      padding: 0 0 0 0;\n",
              "      width: 32px;\n",
              "    }\n",
              "\n",
              "    .colab-df-convert:hover {\n",
              "      background-color: #E2EBFA;\n",
              "      box-shadow: 0px 1px 2px rgba(60, 64, 67, 0.3), 0px 1px 3px 1px rgba(60, 64, 67, 0.15);\n",
              "      fill: #174EA6;\n",
              "    }\n",
              "\n",
              "    [theme=dark] .colab-df-convert {\n",
              "      background-color: #3B4455;\n",
              "      fill: #D2E3FC;\n",
              "    }\n",
              "\n",
              "    [theme=dark] .colab-df-convert:hover {\n",
              "      background-color: #434B5C;\n",
              "      box-shadow: 0px 1px 3px 1px rgba(0, 0, 0, 0.15);\n",
              "      filter: drop-shadow(0px 1px 2px rgba(0, 0, 0, 0.3));\n",
              "      fill: #FFFFFF;\n",
              "    }\n",
              "  </style>\n",
              "\n",
              "      <script>\n",
              "        const buttonEl =\n",
              "          document.querySelector('#df-6f12e261-9dcf-446e-a55f-c6649a51a682 button.colab-df-convert');\n",
              "        buttonEl.style.display =\n",
              "          google.colab.kernel.accessAllowed ? 'block' : 'none';\n",
              "\n",
              "        async function convertToInteractive(key) {\n",
              "          const element = document.querySelector('#df-6f12e261-9dcf-446e-a55f-c6649a51a682');\n",
              "          const dataTable =\n",
              "            await google.colab.kernel.invokeFunction('convertToInteractive',\n",
              "                                                     [key], {});\n",
              "          if (!dataTable) return;\n",
              "\n",
              "          const docLinkHtml = 'Like what you see? Visit the ' +\n",
              "            '<a target=\"_blank\" href=https://colab.research.google.com/notebooks/data_table.ipynb>data table notebook</a>'\n",
              "            + ' to learn more about interactive tables.';\n",
              "          element.innerHTML = '';\n",
              "          dataTable['output_type'] = 'display_data';\n",
              "          await google.colab.output.renderOutput(dataTable, element);\n",
              "          const docLink = document.createElement('div');\n",
              "          docLink.innerHTML = docLinkHtml;\n",
              "          element.appendChild(docLink);\n",
              "        }\n",
              "      </script>\n",
              "    </div>\n",
              "  </div>\n"
            ]
          },
          "metadata": {},
          "execution_count": 32
        }
      ]
    },
    {
      "cell_type": "code",
      "source": [
        "x=np.array(x)\n",
        "x.shape"
      ],
      "metadata": {
        "colab": {
          "base_uri": "https://localhost:8080/"
        },
        "id": "rYISh4LK62PF",
        "outputId": "ed183c6a-0638-4d88-e513-c79aeae9b236"
      },
      "execution_count": 33,
      "outputs": [
        {
          "output_type": "execute_result",
          "data": {
            "text/plain": [
              "(120269, 11)"
            ]
          },
          "metadata": {},
          "execution_count": 33
        }
      ]
    },
    {
      "cell_type": "markdown",
      "source": [
        "##Data cleaning"
      ],
      "metadata": {
        "id": "yy5gT6gr1LrP"
      }
    },
    {
      "cell_type": "code",
      "source": [
        "x[:,[0,2]]=x[:,[2,0]]\n",
        "x[:,[1,8]]=x[:,[8,1]]\n",
        "x[:,[2,6]]=x[:,[6,2]]\n",
        "x[:,[3,4]]=x[:,[4,3]]\n",
        "x[:,[4,9]]=x[:,[9,4]]"
      ],
      "metadata": {
        "id": "jPxR-c3o1K8H"
      },
      "execution_count": 34,
      "outputs": []
    },
    {
      "cell_type": "code",
      "source": [
        "x1=x"
      ],
      "metadata": {
        "id": "zW8ezzAw_x9m"
      },
      "execution_count": 35,
      "outputs": []
    },
    {
      "cell_type": "markdown",
      "source": [
        "##First three feature are 3-pairwise, the last two feature are single"
      ],
      "metadata": {
        "id": "imT9I3mB3YJe"
      }
    },
    {
      "cell_type": "code",
      "source": [
        "x1 = np.delete(x1, np.where\n",
        "    (x1[:,0] >= 20), axis=0)\n",
        "x1 = np.delete(x1, np.where\n",
        "    (x1[:,1] >= 20), axis=0)\n",
        "x1 = np.delete(x1, np.where\n",
        "    (x1[:,2] >= 20), axis=0)"
      ],
      "metadata": {
        "id": "Li0PlfN54fgr"
      },
      "execution_count": 36,
      "outputs": []
    },
    {
      "cell_type": "code",
      "source": [
        "x1.shape"
      ],
      "metadata": {
        "colab": {
          "base_uri": "https://localhost:8080/"
        },
        "id": "5xD6LizJwqFA",
        "outputId": "49045fdb-e664-4e53-e5cf-c73312dd3f7f"
      },
      "execution_count": 37,
      "outputs": [
        {
          "output_type": "execute_result",
          "data": {
            "text/plain": [
              "(120121, 11)"
            ]
          },
          "metadata": {},
          "execution_count": 37
        }
      ]
    },
    {
      "cell_type": "code",
      "source": [
        "x1[:,0][x1[:,0]>=4]=4\n",
        "x1[:,1][x1[:,1]>=4]=4\n",
        "x1[:,2][x1[:,2]>=4]=4"
      ],
      "metadata": {
        "id": "L5g8upWt6s5a"
      },
      "execution_count": 38,
      "outputs": []
    },
    {
      "cell_type": "code",
      "source": [
        "x1[:,3][(x1[:,3]>=0)&(x1[:,3]<2500)]=5\n",
        "x1[:,3][(x1[:,3]>=2500)&(x1[:,3]<5000)]=4\n",
        "x1[:,3][(x1[:,3]>=5000)&(x1[:,3]<7500)]=3\n",
        "x1[:,3][(x1[:,3]>=7500)&(x1[:,3]<10000)]=2\n",
        "x1[:,3][(x1[:,3]>=10000)&(x1[:,3]<50000)]=1\n",
        "x1[:,3][x1[:,3]>=50000]=0"
      ],
      "metadata": {
        "id": "IDfXGAZb7Pr4"
      },
      "execution_count": 39,
      "outputs": []
    },
    {
      "cell_type": "code",
      "source": [
        "x1[:,4][x1[:,4]>=5]=5"
      ],
      "metadata": {
        "id": "38gZKzthBkxk"
      },
      "execution_count": 40,
      "outputs": []
    },
    {
      "cell_type": "code",
      "source": [
        "X=x1[:,0:len(x1[0])-1]\n",
        "Y=x1[:,-1]"
      ],
      "metadata": {
        "id": "hdoOjHCp-TNA"
      },
      "execution_count": 41,
      "outputs": []
    },
    {
      "cell_type": "markdown",
      "source": [
        "##Build the model"
      ],
      "metadata": {
        "id": "ln77P62xnmlu"
      }
    },
    {
      "cell_type": "code",
      "source": [
        "tf.compat.v1.reset_default_graph()\n",
        "#the change of the structure of NAM is in kwargs)\n",
        "#in this demo, first three feature are strong monotonicity, thereby, they are combined in a DNN.\n",
        "Number_of_DNN=8\n",
        "Number_of_Unit=0\n",
        "Trainable=True\n",
        "Use_Shallow=False\n",
        "Model=nam_models.NAM(Number_of_DNN,Number_of_Unit,Trainable,Use_Shallow,feature_dropout = 0.0,dropout = 0.0,kwargs=[3,1,1,1,1,1,1,1])\n",
        "Model(X)"
      ],
      "metadata": {
        "colab": {
          "base_uri": "https://localhost:8080/"
        },
        "id": "YXNeZ_myAkDa",
        "outputId": "23da61f2-f3c4-4cb1-9704-878b2dd601db"
      },
      "execution_count": 42,
      "outputs": [
        {
          "output_type": "execute_result",
          "data": {
            "text/plain": [
              "<tf.Tensor: shape=(120121,), dtype=float32, numpy=\n",
              "array([0.02611502, 0.05746063, 0.09515809, ..., 0.04235728, 0.06842479,\n",
              "       0.03196806], dtype=float32)>"
            ]
          },
          "metadata": {},
          "execution_count": 42
        }
      ]
    },
    {
      "cell_type": "code",
      "source": [
        "Model.summary()"
      ],
      "metadata": {
        "colab": {
          "base_uri": "https://localhost:8080/"
        },
        "id": "9mI-IPUYWA33",
        "outputId": "c5b11470-cfec-41be-bf20-e54d6913d0bb"
      },
      "execution_count": 43,
      "outputs": [
        {
          "output_type": "stream",
          "name": "stdout",
          "text": [
            "Model: \"nam\"\n",
            "_________________________________________________________________\n",
            " Layer (type)                Output Shape              Param #   \n",
            "=================================================================\n",
            " feature_nn (FeatureNN)      multiple                  21        \n",
            "                                                                 \n",
            " feature_nn_1 (FeatureNN)    multiple                  13        \n",
            "                                                                 \n",
            " feature_nn_2 (FeatureNN)    multiple                  13        \n",
            "                                                                 \n",
            " feature_nn_3 (FeatureNN)    multiple                  13        \n",
            "                                                                 \n",
            " feature_nn_4 (FeatureNN)    multiple                  13        \n",
            "                                                                 \n",
            " feature_nn_5 (FeatureNN)    multiple                  13        \n",
            "                                                                 \n",
            " feature_nn_6 (FeatureNN)    multiple                  13        \n",
            "                                                                 \n",
            " feature_nn_7 (FeatureNN)    multiple                  13        \n",
            "                                                                 \n",
            "=================================================================\n",
            "Total params: 113\n",
            "Trainable params: 113\n",
            "Non-trainable params: 0\n",
            "_________________________________________________________________\n"
          ]
        }
      ]
    },
    {
      "cell_type": "markdown",
      "source": [
        "##Single monotonicity"
      ],
      "metadata": {
        "id": "yN3V2m7VonrA"
      }
    },
    {
      "cell_type": "code",
      "source": [
        "def descretize_single(monotonic_feature,lower_bound,upper_bound,spli,X):\n",
        "  individual_output=[]\n",
        "  bar=np.zeros(len(monotonic_feature))\n",
        "  for i in range(len(monotonic_feature)):\n",
        "    individual_output.append(np.linspace(lower_bound[i], upper_bound[i], num=spli[i]))\n",
        "  return individual_output\n",
        "X=X\n",
        "monotonic_feature=[3,4]\n",
        "lower_bound=[0,0]\n",
        "upper_bound=[5,5]\n",
        "spli=[6,6]\n",
        "individual_output=descretize_single(monotonic_feature,lower_bound,upper_bound,spli,X)"
      ],
      "metadata": {
        "id": "dvQN_Zt_eo5o"
      },
      "execution_count": 44,
      "outputs": []
    },
    {
      "cell_type": "code",
      "source": [
        "individual_output"
      ],
      "metadata": {
        "colab": {
          "base_uri": "https://localhost:8080/"
        },
        "id": "Gk51EujcfF39",
        "outputId": "c1839e83-0487-45eb-ebbc-70689b92eca0"
      },
      "execution_count": 45,
      "outputs": [
        {
          "output_type": "execute_result",
          "data": {
            "text/plain": [
              "[array([0., 1., 2., 3., 4., 5.]), array([0., 1., 2., 3., 4., 5.])]"
            ]
          },
          "metadata": {},
          "execution_count": 45
        }
      ]
    },
    {
      "cell_type": "markdown",
      "source": [
        "##3-strong-pair monotonicity"
      ],
      "metadata": {
        "id": "fYog5QiSorjU"
      }
    },
    {
      "cell_type": "code",
      "source": [
        "def descretize_3_pair():\n",
        "  lower_bound=0\n",
        "  upper_bound=4\n",
        "  pair=[]\n",
        "  pair1=[]\n",
        "  pair2=[]\n",
        "  pair3=[]\n",
        "  for i in range(5):\n",
        "    for j in range(5):\n",
        "      for k in range(5):\n",
        "        pair.append([i,j,k])\n",
        "        pair1.append([i,j+1,k-1])\n",
        "        pair2.append([i+1,j-1,k])\n",
        "        pair3.append([i-1,j,k])\n",
        "  return pair,pair1,pair2,pair3"
      ],
      "metadata": {
        "id": "mQ-PG3UjfLXk"
      },
      "execution_count": 46,
      "outputs": []
    },
    {
      "cell_type": "code",
      "source": [
        "#f(pair) is smaller than f(pair1),f(pair2),f(pair3)\n",
        "pair,pair1,pair2,pair3=descretize_3_pair()"
      ],
      "metadata": {
        "id": "swva89mOl5uS"
      },
      "execution_count": 47,
      "outputs": []
    },
    {
      "cell_type": "markdown",
      "source": [
        "## Single monotonicity in that 3-strong-pair monotonicity"
      ],
      "metadata": {
        "id": "DBZ6ktUOo1Ls"
      }
    },
    {
      "cell_type": "code",
      "source": [
        "def descretize_3_pair_single():\n",
        "  pair_s=[]\n",
        "  pair_s1=[]\n",
        "  for i in range(5):\n",
        "    for j in range(5):\n",
        "      for k in range(4):\n",
        "        pair_s.append([k+1,i,j])\n",
        "        pair_s1.append([k,i,j])\n",
        "\n",
        "  for i in range(5):\n",
        "    for j in range(5):\n",
        "      for k in range(4):\n",
        "        pair_s.append([i,k+1,j])\n",
        "        pair_s1.append([i,k,j])\n",
        "\n",
        "  for i in range(5):\n",
        "    for j in range(5):\n",
        "      for k in range(4):\n",
        "        pair_s.append([i,j,k+1])\n",
        "        pair_s1.append([i,j,k])\n",
        "  return pair_s, pair_s1"
      ],
      "metadata": {
        "id": "Jh9Oqb0mg_g9"
      },
      "execution_count": 48,
      "outputs": []
    },
    {
      "cell_type": "code",
      "source": [
        "#f(pair_s) is smaller than f(pair_s1)\n",
        "pair_s, pair_s1=descretize_3_pair_single()"
      ],
      "metadata": {
        "id": "Xw9dRAsul9Ji"
      },
      "execution_count": 49,
      "outputs": []
    },
    {
      "cell_type": "markdown",
      "source": [
        "##Pre_training"
      ],
      "metadata": {
        "id": "lKY7fjI2pa8l"
      }
    },
    {
      "cell_type": "code",
      "source": [
        "Model.compile(loss=tf.keras.losses.binary_crossentropy,\n",
        "                  optimizer=tf.keras.optimizers.Adam(learning_rate=0.001),\n",
        "                  metrics='AUC')\n",
        "\n",
        "training_callbacks = [\n",
        "    tf.keras.callbacks.ReduceLROnPlateau(patience = 5, factor = 0.1, min_lr = 0.001, verbose = 1),\n",
        "    tf.keras.callbacks.EarlyStopping(patience = 10, restore_best_weights = True),\n",
        "]\n",
        "\n",
        "Model.fit(X, Y, batch_size=64, epochs=10)"
      ],
      "metadata": {
        "colab": {
          "base_uri": "https://localhost:8080/"
        },
        "id": "EccfWkO3pU8_",
        "outputId": "67b621bc-fa67-44f2-9e30-6f43d2628e93"
      },
      "execution_count": 50,
      "outputs": [
        {
          "output_type": "stream",
          "name": "stdout",
          "text": [
            "Epoch 1/10\n",
            "1877/1877 [==============================] - 21s 7ms/step - loss: 0.2161 - auc: 0.7681\n",
            "Epoch 2/10\n",
            "1877/1877 [==============================] - 6s 3ms/step - loss: 0.1938 - auc: 0.8370\n",
            "Epoch 3/10\n",
            "1877/1877 [==============================] - 7s 4ms/step - loss: 0.1904 - auc: 0.8455\n",
            "Epoch 4/10\n",
            "1877/1877 [==============================] - 6s 3ms/step - loss: 0.1893 - auc: 0.8487\n",
            "Epoch 5/10\n",
            "1877/1877 [==============================] - 7s 4ms/step - loss: 0.1889 - auc: 0.8489\n",
            "Epoch 6/10\n",
            "1877/1877 [==============================] - 6s 3ms/step - loss: 0.1887 - auc: 0.8491\n",
            "Epoch 7/10\n",
            "1877/1877 [==============================] - 7s 4ms/step - loss: 0.1885 - auc: 0.8496\n",
            "Epoch 8/10\n",
            "1877/1877 [==============================] - 6s 3ms/step - loss: 0.1883 - auc: 0.8501\n",
            "Epoch 9/10\n",
            "1877/1877 [==============================] - 7s 4ms/step - loss: 0.1883 - auc: 0.8500\n",
            "Epoch 10/10\n",
            "1877/1877 [==============================] - 6s 3ms/step - loss: 0.1883 - auc: 0.8500\n"
          ]
        },
        {
          "output_type": "execute_result",
          "data": {
            "text/plain": [
              "<keras.callbacks.History at 0x781817f26350>"
            ]
          },
          "metadata": {},
          "execution_count": 50
        }
      ]
    },
    {
      "cell_type": "markdown",
      "source": [
        "## Training to satisfy the monotonicity requirement. Once first 3 loss reach to 0, decreas the learning_r"
      ],
      "metadata": {
        "id": "5DaxrZGRpgWK"
      }
    },
    {
      "cell_type": "code",
      "source": [
        "each_epoch=10\n",
        "alpha_1=1\n",
        "alpha_2=1\n",
        "alpha_3=1\n",
        "learning_r=0.001\n",
        "\n",
        "for i in range(each_epoch):\n",
        "  Model.network_learn(X,Y,monotonic_feature,individual_output,alpha_1,pair,pair1,pair2,pair3,alpha_2,pair_s,pair_s1,alpha_3,learning_r)\n",
        "  print(\"------------\")"
      ],
      "metadata": {
        "colab": {
          "base_uri": "https://localhost:8080/"
        },
        "id": "9OFEGAL_iXBO",
        "outputId": "673aeee1-2a50-45a7-84cd-85bbedc18c08"
      },
      "execution_count": 51,
      "outputs": [
        {
          "output_type": "stream",
          "name": "stdout",
          "text": [
            "loss of single monotonicity tf.Tensor([0.], shape=(1,), dtype=float32)\n",
            "loss of strong pairwise monotonicity tf.Tensor([0.52692807], shape=(1,), dtype=float32)\n",
            "loss of single monotonicity in strong pairwise monotonicity 0\n",
            "overall loss tf.Tensor([0.7156728], shape=(1,), dtype=float32)\n",
            "------------\n",
            "loss of single monotonicity tf.Tensor([0.], shape=(1,), dtype=float32)\n",
            "loss of strong pairwise monotonicity tf.Tensor([0.5169889], shape=(1,), dtype=float32)\n",
            "loss of single monotonicity in strong pairwise monotonicity 0\n",
            "overall loss tf.Tensor([0.7053868], shape=(1,), dtype=float32)\n",
            "------------\n",
            "loss of single monotonicity tf.Tensor([0.], shape=(1,), dtype=float32)\n",
            "loss of strong pairwise monotonicity tf.Tensor([0.5071615], shape=(1,), dtype=float32)\n",
            "loss of single monotonicity in strong pairwise monotonicity tf.Tensor([8.4877014e-05], shape=(1,), dtype=float32)\n",
            "overall loss tf.Tensor([0.695379], shape=(1,), dtype=float32)\n",
            "------------\n",
            "loss of single monotonicity tf.Tensor([0.], shape=(1,), dtype=float32)\n",
            "loss of strong pairwise monotonicity tf.Tensor([0.49745536], shape=(1,), dtype=float32)\n",
            "loss of single monotonicity in strong pairwise monotonicity tf.Tensor([0.00024033], shape=(1,), dtype=float32)\n",
            "overall loss tf.Tensor([0.68564856], shape=(1,), dtype=float32)\n",
            "------------\n",
            "loss of single monotonicity tf.Tensor([0.], shape=(1,), dtype=float32)\n",
            "loss of strong pairwise monotonicity tf.Tensor([0.48781157], shape=(1,), dtype=float32)\n",
            "loss of single monotonicity in strong pairwise monotonicity tf.Tensor([0.00039768], shape=(1,), dtype=float32)\n",
            "overall loss tf.Tensor([0.6760721], shape=(1,), dtype=float32)\n",
            "------------\n",
            "loss of single monotonicity tf.Tensor([0.], shape=(1,), dtype=float32)\n",
            "loss of strong pairwise monotonicity tf.Tensor([0.47820473], shape=(1,), dtype=float32)\n",
            "loss of single monotonicity in strong pairwise monotonicity tf.Tensor([0.0005579], shape=(1,), dtype=float32)\n",
            "overall loss tf.Tensor([0.6666287], shape=(1,), dtype=float32)\n",
            "------------\n",
            "loss of single monotonicity tf.Tensor([0.], shape=(1,), dtype=float32)\n",
            "loss of strong pairwise monotonicity tf.Tensor([0.4687209], shape=(1,), dtype=float32)\n",
            "loss of single monotonicity in strong pairwise monotonicity tf.Tensor([0.00072002], shape=(1,), dtype=float32)\n",
            "overall loss tf.Tensor([0.65730065], shape=(1,), dtype=float32)\n",
            "------------\n",
            "loss of single monotonicity tf.Tensor([0.], shape=(1,), dtype=float32)\n",
            "loss of strong pairwise monotonicity tf.Tensor([0.4598024], shape=(1,), dtype=float32)\n",
            "loss of single monotonicity in strong pairwise monotonicity tf.Tensor([0.00088406], shape=(1,), dtype=float32)\n",
            "overall loss tf.Tensor([0.64855695], shape=(1,), dtype=float32)\n",
            "------------\n",
            "loss of single monotonicity tf.Tensor([0.], shape=(1,), dtype=float32)\n",
            "loss of strong pairwise monotonicity tf.Tensor([0.4515127], shape=(1,), dtype=float32)\n",
            "loss of single monotonicity in strong pairwise monotonicity tf.Tensor([0.00073075], shape=(1,), dtype=float32)\n",
            "overall loss tf.Tensor([0.6401007], shape=(1,), dtype=float32)\n",
            "------------\n",
            "loss of single monotonicity tf.Tensor([0.], shape=(1,), dtype=float32)\n",
            "loss of strong pairwise monotonicity tf.Tensor([0.44325447], shape=(1,), dtype=float32)\n",
            "loss of single monotonicity in strong pairwise monotonicity tf.Tensor([0.00057697], shape=(1,), dtype=float32)\n",
            "overall loss tf.Tensor([0.63170826], shape=(1,), dtype=float32)\n",
            "------------\n"
          ]
        }
      ]
    },
    {
      "cell_type": "markdown",
      "source": [
        "##Once training is complete, save the model"
      ],
      "metadata": {
        "id": "xv82CPhS9-gJ"
      }
    },
    {
      "cell_type": "markdown",
      "source": [],
      "metadata": {
        "id": "B7J_rKIH-YUu"
      }
    },
    {
      "cell_type": "code",
      "source": [
        "Model.save_weights('./Model/My_model_1')"
      ],
      "metadata": {
        "id": "wghFDAtL994D"
      },
      "execution_count": 52,
      "outputs": []
    }
  ]
}