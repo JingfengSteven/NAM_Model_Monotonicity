{
  "nbformat": 4,
  "nbformat_minor": 0,
  "metadata": {
    "colab": {
      "provenance": [],
      "toc_visible": true,
      "authorship_tag": "ABX9TyMNLYNIHSaXSjYuL9Z/VOpj",
      "include_colab_link": true
    },
    "kernelspec": {
      "name": "python3",
      "display_name": "Python 3"
    },
    "language_info": {
      "name": "python"
    }
  },
  "cells": [
    {
      "cell_type": "markdown",
      "metadata": {
        "id": "view-in-github",
        "colab_type": "text"
      },
      "source": [
        "<a href=\"https://colab.research.google.com/github/JingfengSteven/NAM_Model_Monotonicity/blob/Model/Model_training%20(only%20individual)%20modified%201.ipynb\" target=\"_parent\"><img src=\"https://colab.research.google.com/assets/colab-badge.svg\" alt=\"Open In Colab\"/></a>"
      ]
    },
    {
      "cell_type": "code",
      "execution_count": 1,
      "metadata": {
        "id": "qo1nRgfgxUi6",
        "colab": {
          "base_uri": "https://localhost:8080/"
        },
        "outputId": "359a61cf-6050-41b7-b20f-42e689f3fefe"
      },
      "outputs": [
        {
          "output_type": "stream",
          "name": "stdout",
          "text": [
            "Cloning into 'givemesomecredit'...\n",
            "remote: Enumerating objects: 25, done.\u001b[K\n",
            "remote: Counting objects: 100% (25/25), done.\u001b[K\n",
            "remote: Compressing objects: 100% (25/25), done.\u001b[K\n",
            "remote: Total 25 (delta 11), reused 0 (delta 0), pack-reused 0\u001b[K\n",
            "Receiving objects: 100% (25/25), 4.40 MiB | 5.90 MiB/s, done.\n",
            "Resolving deltas: 100% (11/11), done.\n"
          ]
        }
      ],
      "source": [
        "!git clone https://github.com/JingfengSteven/givemesomecredit"
      ]
    },
    {
      "cell_type": "code",
      "source": [
        "import tensorflow.compat.v2 as tf\n",
        "tf.enable_v2_behavior()\n",
        "from givemesomecredit import models_single_only as nam_models\n",
        "import os.path as osp\n",
        "import numpy as np\n",
        "import matplotlib.pyplot as plt\n",
        "import pandas as pd\n",
        "from sklearn.preprocessing import StandardScaler\n",
        "from sklearn import preprocessing\n",
        "from sklearn.model_selection import train_test_split\n",
        "import sklearn"
      ],
      "metadata": {
        "id": "HLfM9Fl4x9q6"
      },
      "execution_count": 2,
      "outputs": []
    },
    {
      "cell_type": "code",
      "source": [
        "orgdata=pd.read_csv(\"givemesomecredit/cs-training.csv\")\n",
        "orgdata=orgdata.dropna(axis=0)\n",
        "orgdata.head()"
      ],
      "metadata": {
        "id": "2Qaq9hxtyEYW",
        "colab": {
          "base_uri": "https://localhost:8080/",
          "height": 288
        },
        "outputId": "8375a472-942e-41aa-841d-dbb4c8b040dc"
      },
      "execution_count": 3,
      "outputs": [
        {
          "output_type": "execute_result",
          "data": {
            "text/plain": [
              "   Unnamed: 0  SeriousDlqin2yrs  RevolvingUtilizationOfUnsecuredLines  age  \\\n",
              "0           1                 1                              0.766127   45   \n",
              "1           2                 0                              0.957151   40   \n",
              "2           3                 0                              0.658180   38   \n",
              "3           4                 0                              0.233810   30   \n",
              "4           5                 0                              0.907239   49   \n",
              "\n",
              "   NumberOfTime30-59DaysPastDueNotWorse  DebtRatio  MonthlyIncome  \\\n",
              "0                                     2   0.802982         9120.0   \n",
              "1                                     0   0.121876         2600.0   \n",
              "2                                     1   0.085113         3042.0   \n",
              "3                                     0   0.036050         3300.0   \n",
              "4                                     1   0.024926        63588.0   \n",
              "\n",
              "   NumberOfOpenCreditLinesAndLoans  NumberOfTimes90DaysLate  \\\n",
              "0                               13                        0   \n",
              "1                                4                        0   \n",
              "2                                2                        1   \n",
              "3                                5                        0   \n",
              "4                                7                        0   \n",
              "\n",
              "   NumberRealEstateLoansOrLines  NumberOfTime60-89DaysPastDueNotWorse  \\\n",
              "0                             6                                     0   \n",
              "1                             0                                     0   \n",
              "2                             0                                     0   \n",
              "3                             0                                     0   \n",
              "4                             1                                     0   \n",
              "\n",
              "   NumberOfDependents  \n",
              "0                 2.0  \n",
              "1                 1.0  \n",
              "2                 0.0  \n",
              "3                 0.0  \n",
              "4                 0.0  "
            ],
            "text/html": [
              "\n",
              "\n",
              "  <div id=\"df-0b7e296a-844f-4b8a-9628-eee161a666d8\">\n",
              "    <div class=\"colab-df-container\">\n",
              "      <div>\n",
              "<style scoped>\n",
              "    .dataframe tbody tr th:only-of-type {\n",
              "        vertical-align: middle;\n",
              "    }\n",
              "\n",
              "    .dataframe tbody tr th {\n",
              "        vertical-align: top;\n",
              "    }\n",
              "\n",
              "    .dataframe thead th {\n",
              "        text-align: right;\n",
              "    }\n",
              "</style>\n",
              "<table border=\"1\" class=\"dataframe\">\n",
              "  <thead>\n",
              "    <tr style=\"text-align: right;\">\n",
              "      <th></th>\n",
              "      <th>Unnamed: 0</th>\n",
              "      <th>SeriousDlqin2yrs</th>\n",
              "      <th>RevolvingUtilizationOfUnsecuredLines</th>\n",
              "      <th>age</th>\n",
              "      <th>NumberOfTime30-59DaysPastDueNotWorse</th>\n",
              "      <th>DebtRatio</th>\n",
              "      <th>MonthlyIncome</th>\n",
              "      <th>NumberOfOpenCreditLinesAndLoans</th>\n",
              "      <th>NumberOfTimes90DaysLate</th>\n",
              "      <th>NumberRealEstateLoansOrLines</th>\n",
              "      <th>NumberOfTime60-89DaysPastDueNotWorse</th>\n",
              "      <th>NumberOfDependents</th>\n",
              "    </tr>\n",
              "  </thead>\n",
              "  <tbody>\n",
              "    <tr>\n",
              "      <th>0</th>\n",
              "      <td>1</td>\n",
              "      <td>1</td>\n",
              "      <td>0.766127</td>\n",
              "      <td>45</td>\n",
              "      <td>2</td>\n",
              "      <td>0.802982</td>\n",
              "      <td>9120.0</td>\n",
              "      <td>13</td>\n",
              "      <td>0</td>\n",
              "      <td>6</td>\n",
              "      <td>0</td>\n",
              "      <td>2.0</td>\n",
              "    </tr>\n",
              "    <tr>\n",
              "      <th>1</th>\n",
              "      <td>2</td>\n",
              "      <td>0</td>\n",
              "      <td>0.957151</td>\n",
              "      <td>40</td>\n",
              "      <td>0</td>\n",
              "      <td>0.121876</td>\n",
              "      <td>2600.0</td>\n",
              "      <td>4</td>\n",
              "      <td>0</td>\n",
              "      <td>0</td>\n",
              "      <td>0</td>\n",
              "      <td>1.0</td>\n",
              "    </tr>\n",
              "    <tr>\n",
              "      <th>2</th>\n",
              "      <td>3</td>\n",
              "      <td>0</td>\n",
              "      <td>0.658180</td>\n",
              "      <td>38</td>\n",
              "      <td>1</td>\n",
              "      <td>0.085113</td>\n",
              "      <td>3042.0</td>\n",
              "      <td>2</td>\n",
              "      <td>1</td>\n",
              "      <td>0</td>\n",
              "      <td>0</td>\n",
              "      <td>0.0</td>\n",
              "    </tr>\n",
              "    <tr>\n",
              "      <th>3</th>\n",
              "      <td>4</td>\n",
              "      <td>0</td>\n",
              "      <td>0.233810</td>\n",
              "      <td>30</td>\n",
              "      <td>0</td>\n",
              "      <td>0.036050</td>\n",
              "      <td>3300.0</td>\n",
              "      <td>5</td>\n",
              "      <td>0</td>\n",
              "      <td>0</td>\n",
              "      <td>0</td>\n",
              "      <td>0.0</td>\n",
              "    </tr>\n",
              "    <tr>\n",
              "      <th>4</th>\n",
              "      <td>5</td>\n",
              "      <td>0</td>\n",
              "      <td>0.907239</td>\n",
              "      <td>49</td>\n",
              "      <td>1</td>\n",
              "      <td>0.024926</td>\n",
              "      <td>63588.0</td>\n",
              "      <td>7</td>\n",
              "      <td>0</td>\n",
              "      <td>1</td>\n",
              "      <td>0</td>\n",
              "      <td>0.0</td>\n",
              "    </tr>\n",
              "  </tbody>\n",
              "</table>\n",
              "</div>\n",
              "      <button class=\"colab-df-convert\" onclick=\"convertToInteractive('df-0b7e296a-844f-4b8a-9628-eee161a666d8')\"\n",
              "              title=\"Convert this dataframe to an interactive table.\"\n",
              "              style=\"display:none;\">\n",
              "\n",
              "  <svg xmlns=\"http://www.w3.org/2000/svg\" height=\"24px\"viewBox=\"0 0 24 24\"\n",
              "       width=\"24px\">\n",
              "    <path d=\"M0 0h24v24H0V0z\" fill=\"none\"/>\n",
              "    <path d=\"M18.56 5.44l.94 2.06.94-2.06 2.06-.94-2.06-.94-.94-2.06-.94 2.06-2.06.94zm-11 1L8.5 8.5l.94-2.06 2.06-.94-2.06-.94L8.5 2.5l-.94 2.06-2.06.94zm10 10l.94 2.06.94-2.06 2.06-.94-2.06-.94-.94-2.06-.94 2.06-2.06.94z\"/><path d=\"M17.41 7.96l-1.37-1.37c-.4-.4-.92-.59-1.43-.59-.52 0-1.04.2-1.43.59L10.3 9.45l-7.72 7.72c-.78.78-.78 2.05 0 2.83L4 21.41c.39.39.9.59 1.41.59.51 0 1.02-.2 1.41-.59l7.78-7.78 2.81-2.81c.8-.78.8-2.07 0-2.86zM5.41 20L4 18.59l7.72-7.72 1.47 1.35L5.41 20z\"/>\n",
              "  </svg>\n",
              "      </button>\n",
              "\n",
              "\n",
              "\n",
              "    <div id=\"df-788672b7-bead-43d2-9d6c-26e09b22676c\">\n",
              "      <button class=\"colab-df-quickchart\" onclick=\"quickchart('df-788672b7-bead-43d2-9d6c-26e09b22676c')\"\n",
              "              title=\"Suggest charts.\"\n",
              "              style=\"display:none;\">\n",
              "\n",
              "<svg xmlns=\"http://www.w3.org/2000/svg\" height=\"24px\"viewBox=\"0 0 24 24\"\n",
              "     width=\"24px\">\n",
              "    <g>\n",
              "        <path d=\"M19 3H5c-1.1 0-2 .9-2 2v14c0 1.1.9 2 2 2h14c1.1 0 2-.9 2-2V5c0-1.1-.9-2-2-2zM9 17H7v-7h2v7zm4 0h-2V7h2v10zm4 0h-2v-4h2v4z\"/>\n",
              "    </g>\n",
              "</svg>\n",
              "      </button>\n",
              "    </div>\n",
              "\n",
              "<style>\n",
              "  .colab-df-quickchart {\n",
              "    background-color: #E8F0FE;\n",
              "    border: none;\n",
              "    border-radius: 50%;\n",
              "    cursor: pointer;\n",
              "    display: none;\n",
              "    fill: #1967D2;\n",
              "    height: 32px;\n",
              "    padding: 0 0 0 0;\n",
              "    width: 32px;\n",
              "  }\n",
              "\n",
              "  .colab-df-quickchart:hover {\n",
              "    background-color: #E2EBFA;\n",
              "    box-shadow: 0px 1px 2px rgba(60, 64, 67, 0.3), 0px 1px 3px 1px rgba(60, 64, 67, 0.15);\n",
              "    fill: #174EA6;\n",
              "  }\n",
              "\n",
              "  [theme=dark] .colab-df-quickchart {\n",
              "    background-color: #3B4455;\n",
              "    fill: #D2E3FC;\n",
              "  }\n",
              "\n",
              "  [theme=dark] .colab-df-quickchart:hover {\n",
              "    background-color: #434B5C;\n",
              "    box-shadow: 0px 1px 3px 1px rgba(0, 0, 0, 0.15);\n",
              "    filter: drop-shadow(0px 1px 2px rgba(0, 0, 0, 0.3));\n",
              "    fill: #FFFFFF;\n",
              "  }\n",
              "</style>\n",
              "\n",
              "    <script>\n",
              "      async function quickchart(key) {\n",
              "        const containerElement = document.querySelector('#' + key);\n",
              "        const charts = await google.colab.kernel.invokeFunction(\n",
              "            'suggestCharts', [key], {});\n",
              "      }\n",
              "    </script>\n",
              "\n",
              "      <script>\n",
              "\n",
              "function displayQuickchartButton(domScope) {\n",
              "  let quickchartButtonEl =\n",
              "    domScope.querySelector('#df-788672b7-bead-43d2-9d6c-26e09b22676c button.colab-df-quickchart');\n",
              "  quickchartButtonEl.style.display =\n",
              "    google.colab.kernel.accessAllowed ? 'block' : 'none';\n",
              "}\n",
              "\n",
              "        displayQuickchartButton(document);\n",
              "      </script>\n",
              "      <style>\n",
              "    .colab-df-container {\n",
              "      display:flex;\n",
              "      flex-wrap:wrap;\n",
              "      gap: 12px;\n",
              "    }\n",
              "\n",
              "    .colab-df-convert {\n",
              "      background-color: #E8F0FE;\n",
              "      border: none;\n",
              "      border-radius: 50%;\n",
              "      cursor: pointer;\n",
              "      display: none;\n",
              "      fill: #1967D2;\n",
              "      height: 32px;\n",
              "      padding: 0 0 0 0;\n",
              "      width: 32px;\n",
              "    }\n",
              "\n",
              "    .colab-df-convert:hover {\n",
              "      background-color: #E2EBFA;\n",
              "      box-shadow: 0px 1px 2px rgba(60, 64, 67, 0.3), 0px 1px 3px 1px rgba(60, 64, 67, 0.15);\n",
              "      fill: #174EA6;\n",
              "    }\n",
              "\n",
              "    [theme=dark] .colab-df-convert {\n",
              "      background-color: #3B4455;\n",
              "      fill: #D2E3FC;\n",
              "    }\n",
              "\n",
              "    [theme=dark] .colab-df-convert:hover {\n",
              "      background-color: #434B5C;\n",
              "      box-shadow: 0px 1px 3px 1px rgba(0, 0, 0, 0.15);\n",
              "      filter: drop-shadow(0px 1px 2px rgba(0, 0, 0, 0.3));\n",
              "      fill: #FFFFFF;\n",
              "    }\n",
              "  </style>\n",
              "\n",
              "      <script>\n",
              "        const buttonEl =\n",
              "          document.querySelector('#df-0b7e296a-844f-4b8a-9628-eee161a666d8 button.colab-df-convert');\n",
              "        buttonEl.style.display =\n",
              "          google.colab.kernel.accessAllowed ? 'block' : 'none';\n",
              "\n",
              "        async function convertToInteractive(key) {\n",
              "          const element = document.querySelector('#df-0b7e296a-844f-4b8a-9628-eee161a666d8');\n",
              "          const dataTable =\n",
              "            await google.colab.kernel.invokeFunction('convertToInteractive',\n",
              "                                                     [key], {});\n",
              "          if (!dataTable) return;\n",
              "\n",
              "          const docLinkHtml = 'Like what you see? Visit the ' +\n",
              "            '<a target=\"_blank\" href=https://colab.research.google.com/notebooks/data_table.ipynb>data table notebook</a>'\n",
              "            + ' to learn more about interactive tables.';\n",
              "          element.innerHTML = '';\n",
              "          dataTable['output_type'] = 'display_data';\n",
              "          await google.colab.output.renderOutput(dataTable, element);\n",
              "          const docLink = document.createElement('div');\n",
              "          docLink.innerHTML = docLinkHtml;\n",
              "          element.appendChild(docLink);\n",
              "        }\n",
              "      </script>\n",
              "    </div>\n",
              "  </div>\n"
            ]
          },
          "metadata": {},
          "execution_count": 3
        }
      ]
    },
    {
      "cell_type": "code",
      "source": [
        "data=orgdata"
      ],
      "metadata": {
        "id": "iL5BJqo_5wVe"
      },
      "execution_count": 4,
      "outputs": []
    },
    {
      "cell_type": "code",
      "source": [
        "x=data.iloc[:,2:data.shape[1]]\n",
        "y=data.iloc[:,1]\n",
        "x.insert(data.shape[1]-2, 'label', y)\n",
        "x.head()"
      ],
      "metadata": {
        "colab": {
          "base_uri": "https://localhost:8080/",
          "height": 288
        },
        "id": "s7aoL1mO1tJK",
        "outputId": "4501f2f6-6aed-4c01-a2a2-a8920fbdaced"
      },
      "execution_count": 5,
      "outputs": [
        {
          "output_type": "execute_result",
          "data": {
            "text/plain": [
              "   RevolvingUtilizationOfUnsecuredLines  age  \\\n",
              "0                              0.766127   45   \n",
              "1                              0.957151   40   \n",
              "2                              0.658180   38   \n",
              "3                              0.233810   30   \n",
              "4                              0.907239   49   \n",
              "\n",
              "   NumberOfTime30-59DaysPastDueNotWorse  DebtRatio  MonthlyIncome  \\\n",
              "0                                     2   0.802982         9120.0   \n",
              "1                                     0   0.121876         2600.0   \n",
              "2                                     1   0.085113         3042.0   \n",
              "3                                     0   0.036050         3300.0   \n",
              "4                                     1   0.024926        63588.0   \n",
              "\n",
              "   NumberOfOpenCreditLinesAndLoans  NumberOfTimes90DaysLate  \\\n",
              "0                               13                        0   \n",
              "1                                4                        0   \n",
              "2                                2                        1   \n",
              "3                                5                        0   \n",
              "4                                7                        0   \n",
              "\n",
              "   NumberRealEstateLoansOrLines  NumberOfTime60-89DaysPastDueNotWorse  \\\n",
              "0                             6                                     0   \n",
              "1                             0                                     0   \n",
              "2                             0                                     0   \n",
              "3                             0                                     0   \n",
              "4                             1                                     0   \n",
              "\n",
              "   NumberOfDependents  label  \n",
              "0                 2.0      1  \n",
              "1                 1.0      0  \n",
              "2                 0.0      0  \n",
              "3                 0.0      0  \n",
              "4                 0.0      0  "
            ],
            "text/html": [
              "\n",
              "\n",
              "  <div id=\"df-918e4fdf-9184-4910-906f-ef6606c4d81f\">\n",
              "    <div class=\"colab-df-container\">\n",
              "      <div>\n",
              "<style scoped>\n",
              "    .dataframe tbody tr th:only-of-type {\n",
              "        vertical-align: middle;\n",
              "    }\n",
              "\n",
              "    .dataframe tbody tr th {\n",
              "        vertical-align: top;\n",
              "    }\n",
              "\n",
              "    .dataframe thead th {\n",
              "        text-align: right;\n",
              "    }\n",
              "</style>\n",
              "<table border=\"1\" class=\"dataframe\">\n",
              "  <thead>\n",
              "    <tr style=\"text-align: right;\">\n",
              "      <th></th>\n",
              "      <th>RevolvingUtilizationOfUnsecuredLines</th>\n",
              "      <th>age</th>\n",
              "      <th>NumberOfTime30-59DaysPastDueNotWorse</th>\n",
              "      <th>DebtRatio</th>\n",
              "      <th>MonthlyIncome</th>\n",
              "      <th>NumberOfOpenCreditLinesAndLoans</th>\n",
              "      <th>NumberOfTimes90DaysLate</th>\n",
              "      <th>NumberRealEstateLoansOrLines</th>\n",
              "      <th>NumberOfTime60-89DaysPastDueNotWorse</th>\n",
              "      <th>NumberOfDependents</th>\n",
              "      <th>label</th>\n",
              "    </tr>\n",
              "  </thead>\n",
              "  <tbody>\n",
              "    <tr>\n",
              "      <th>0</th>\n",
              "      <td>0.766127</td>\n",
              "      <td>45</td>\n",
              "      <td>2</td>\n",
              "      <td>0.802982</td>\n",
              "      <td>9120.0</td>\n",
              "      <td>13</td>\n",
              "      <td>0</td>\n",
              "      <td>6</td>\n",
              "      <td>0</td>\n",
              "      <td>2.0</td>\n",
              "      <td>1</td>\n",
              "    </tr>\n",
              "    <tr>\n",
              "      <th>1</th>\n",
              "      <td>0.957151</td>\n",
              "      <td>40</td>\n",
              "      <td>0</td>\n",
              "      <td>0.121876</td>\n",
              "      <td>2600.0</td>\n",
              "      <td>4</td>\n",
              "      <td>0</td>\n",
              "      <td>0</td>\n",
              "      <td>0</td>\n",
              "      <td>1.0</td>\n",
              "      <td>0</td>\n",
              "    </tr>\n",
              "    <tr>\n",
              "      <th>2</th>\n",
              "      <td>0.658180</td>\n",
              "      <td>38</td>\n",
              "      <td>1</td>\n",
              "      <td>0.085113</td>\n",
              "      <td>3042.0</td>\n",
              "      <td>2</td>\n",
              "      <td>1</td>\n",
              "      <td>0</td>\n",
              "      <td>0</td>\n",
              "      <td>0.0</td>\n",
              "      <td>0</td>\n",
              "    </tr>\n",
              "    <tr>\n",
              "      <th>3</th>\n",
              "      <td>0.233810</td>\n",
              "      <td>30</td>\n",
              "      <td>0</td>\n",
              "      <td>0.036050</td>\n",
              "      <td>3300.0</td>\n",
              "      <td>5</td>\n",
              "      <td>0</td>\n",
              "      <td>0</td>\n",
              "      <td>0</td>\n",
              "      <td>0.0</td>\n",
              "      <td>0</td>\n",
              "    </tr>\n",
              "    <tr>\n",
              "      <th>4</th>\n",
              "      <td>0.907239</td>\n",
              "      <td>49</td>\n",
              "      <td>1</td>\n",
              "      <td>0.024926</td>\n",
              "      <td>63588.0</td>\n",
              "      <td>7</td>\n",
              "      <td>0</td>\n",
              "      <td>1</td>\n",
              "      <td>0</td>\n",
              "      <td>0.0</td>\n",
              "      <td>0</td>\n",
              "    </tr>\n",
              "  </tbody>\n",
              "</table>\n",
              "</div>\n",
              "      <button class=\"colab-df-convert\" onclick=\"convertToInteractive('df-918e4fdf-9184-4910-906f-ef6606c4d81f')\"\n",
              "              title=\"Convert this dataframe to an interactive table.\"\n",
              "              style=\"display:none;\">\n",
              "\n",
              "  <svg xmlns=\"http://www.w3.org/2000/svg\" height=\"24px\"viewBox=\"0 0 24 24\"\n",
              "       width=\"24px\">\n",
              "    <path d=\"M0 0h24v24H0V0z\" fill=\"none\"/>\n",
              "    <path d=\"M18.56 5.44l.94 2.06.94-2.06 2.06-.94-2.06-.94-.94-2.06-.94 2.06-2.06.94zm-11 1L8.5 8.5l.94-2.06 2.06-.94-2.06-.94L8.5 2.5l-.94 2.06-2.06.94zm10 10l.94 2.06.94-2.06 2.06-.94-2.06-.94-.94-2.06-.94 2.06-2.06.94z\"/><path d=\"M17.41 7.96l-1.37-1.37c-.4-.4-.92-.59-1.43-.59-.52 0-1.04.2-1.43.59L10.3 9.45l-7.72 7.72c-.78.78-.78 2.05 0 2.83L4 21.41c.39.39.9.59 1.41.59.51 0 1.02-.2 1.41-.59l7.78-7.78 2.81-2.81c.8-.78.8-2.07 0-2.86zM5.41 20L4 18.59l7.72-7.72 1.47 1.35L5.41 20z\"/>\n",
              "  </svg>\n",
              "      </button>\n",
              "\n",
              "\n",
              "\n",
              "    <div id=\"df-6b726e79-e683-4515-8af9-f03db13aff1a\">\n",
              "      <button class=\"colab-df-quickchart\" onclick=\"quickchart('df-6b726e79-e683-4515-8af9-f03db13aff1a')\"\n",
              "              title=\"Suggest charts.\"\n",
              "              style=\"display:none;\">\n",
              "\n",
              "<svg xmlns=\"http://www.w3.org/2000/svg\" height=\"24px\"viewBox=\"0 0 24 24\"\n",
              "     width=\"24px\">\n",
              "    <g>\n",
              "        <path d=\"M19 3H5c-1.1 0-2 .9-2 2v14c0 1.1.9 2 2 2h14c1.1 0 2-.9 2-2V5c0-1.1-.9-2-2-2zM9 17H7v-7h2v7zm4 0h-2V7h2v10zm4 0h-2v-4h2v4z\"/>\n",
              "    </g>\n",
              "</svg>\n",
              "      </button>\n",
              "    </div>\n",
              "\n",
              "<style>\n",
              "  .colab-df-quickchart {\n",
              "    background-color: #E8F0FE;\n",
              "    border: none;\n",
              "    border-radius: 50%;\n",
              "    cursor: pointer;\n",
              "    display: none;\n",
              "    fill: #1967D2;\n",
              "    height: 32px;\n",
              "    padding: 0 0 0 0;\n",
              "    width: 32px;\n",
              "  }\n",
              "\n",
              "  .colab-df-quickchart:hover {\n",
              "    background-color: #E2EBFA;\n",
              "    box-shadow: 0px 1px 2px rgba(60, 64, 67, 0.3), 0px 1px 3px 1px rgba(60, 64, 67, 0.15);\n",
              "    fill: #174EA6;\n",
              "  }\n",
              "\n",
              "  [theme=dark] .colab-df-quickchart {\n",
              "    background-color: #3B4455;\n",
              "    fill: #D2E3FC;\n",
              "  }\n",
              "\n",
              "  [theme=dark] .colab-df-quickchart:hover {\n",
              "    background-color: #434B5C;\n",
              "    box-shadow: 0px 1px 3px 1px rgba(0, 0, 0, 0.15);\n",
              "    filter: drop-shadow(0px 1px 2px rgba(0, 0, 0, 0.3));\n",
              "    fill: #FFFFFF;\n",
              "  }\n",
              "</style>\n",
              "\n",
              "    <script>\n",
              "      async function quickchart(key) {\n",
              "        const containerElement = document.querySelector('#' + key);\n",
              "        const charts = await google.colab.kernel.invokeFunction(\n",
              "            'suggestCharts', [key], {});\n",
              "      }\n",
              "    </script>\n",
              "\n",
              "      <script>\n",
              "\n",
              "function displayQuickchartButton(domScope) {\n",
              "  let quickchartButtonEl =\n",
              "    domScope.querySelector('#df-6b726e79-e683-4515-8af9-f03db13aff1a button.colab-df-quickchart');\n",
              "  quickchartButtonEl.style.display =\n",
              "    google.colab.kernel.accessAllowed ? 'block' : 'none';\n",
              "}\n",
              "\n",
              "        displayQuickchartButton(document);\n",
              "      </script>\n",
              "      <style>\n",
              "    .colab-df-container {\n",
              "      display:flex;\n",
              "      flex-wrap:wrap;\n",
              "      gap: 12px;\n",
              "    }\n",
              "\n",
              "    .colab-df-convert {\n",
              "      background-color: #E8F0FE;\n",
              "      border: none;\n",
              "      border-radius: 50%;\n",
              "      cursor: pointer;\n",
              "      display: none;\n",
              "      fill: #1967D2;\n",
              "      height: 32px;\n",
              "      padding: 0 0 0 0;\n",
              "      width: 32px;\n",
              "    }\n",
              "\n",
              "    .colab-df-convert:hover {\n",
              "      background-color: #E2EBFA;\n",
              "      box-shadow: 0px 1px 2px rgba(60, 64, 67, 0.3), 0px 1px 3px 1px rgba(60, 64, 67, 0.15);\n",
              "      fill: #174EA6;\n",
              "    }\n",
              "\n",
              "    [theme=dark] .colab-df-convert {\n",
              "      background-color: #3B4455;\n",
              "      fill: #D2E3FC;\n",
              "    }\n",
              "\n",
              "    [theme=dark] .colab-df-convert:hover {\n",
              "      background-color: #434B5C;\n",
              "      box-shadow: 0px 1px 3px 1px rgba(0, 0, 0, 0.15);\n",
              "      filter: drop-shadow(0px 1px 2px rgba(0, 0, 0, 0.3));\n",
              "      fill: #FFFFFF;\n",
              "    }\n",
              "  </style>\n",
              "\n",
              "      <script>\n",
              "        const buttonEl =\n",
              "          document.querySelector('#df-918e4fdf-9184-4910-906f-ef6606c4d81f button.colab-df-convert');\n",
              "        buttonEl.style.display =\n",
              "          google.colab.kernel.accessAllowed ? 'block' : 'none';\n",
              "\n",
              "        async function convertToInteractive(key) {\n",
              "          const element = document.querySelector('#df-918e4fdf-9184-4910-906f-ef6606c4d81f');\n",
              "          const dataTable =\n",
              "            await google.colab.kernel.invokeFunction('convertToInteractive',\n",
              "                                                     [key], {});\n",
              "          if (!dataTable) return;\n",
              "\n",
              "          const docLinkHtml = 'Like what you see? Visit the ' +\n",
              "            '<a target=\"_blank\" href=https://colab.research.google.com/notebooks/data_table.ipynb>data table notebook</a>'\n",
              "            + ' to learn more about interactive tables.';\n",
              "          element.innerHTML = '';\n",
              "          dataTable['output_type'] = 'display_data';\n",
              "          await google.colab.output.renderOutput(dataTable, element);\n",
              "          const docLink = document.createElement('div');\n",
              "          docLink.innerHTML = docLinkHtml;\n",
              "          element.appendChild(docLink);\n",
              "        }\n",
              "      </script>\n",
              "    </div>\n",
              "  </div>\n"
            ]
          },
          "metadata": {},
          "execution_count": 5
        }
      ]
    },
    {
      "cell_type": "code",
      "source": [
        "x=np.array(x)\n",
        "x.shape"
      ],
      "metadata": {
        "colab": {
          "base_uri": "https://localhost:8080/"
        },
        "id": "rYISh4LK62PF",
        "outputId": "0bd6821b-da1e-40c0-e8a9-7f946685af68"
      },
      "execution_count": 6,
      "outputs": [
        {
          "output_type": "execute_result",
          "data": {
            "text/plain": [
              "(120269, 11)"
            ]
          },
          "metadata": {},
          "execution_count": 6
        }
      ]
    },
    {
      "cell_type": "markdown",
      "source": [
        "##Data cleaning"
      ],
      "metadata": {
        "id": "yy5gT6gr1LrP"
      }
    },
    {
      "cell_type": "code",
      "source": [
        "x[:,[0,2]]=x[:,[2,0]]\n",
        "x[:,[1,8]]=x[:,[8,1]]\n",
        "x[:,[2,6]]=x[:,[6,2]]\n",
        "x[:,[3,4]]=x[:,[4,3]]\n",
        "x[:,[4,9]]=x[:,[9,4]]"
      ],
      "metadata": {
        "id": "jPxR-c3o1K8H"
      },
      "execution_count": 7,
      "outputs": []
    },
    {
      "cell_type": "code",
      "source": [
        "x1=x"
      ],
      "metadata": {
        "id": "zW8ezzAw_x9m"
      },
      "execution_count": 8,
      "outputs": []
    },
    {
      "cell_type": "markdown",
      "source": [
        "##First 5 features follow single monotonicity"
      ],
      "metadata": {
        "id": "imT9I3mB3YJe"
      }
    },
    {
      "cell_type": "code",
      "source": [
        "x1 = np.delete(x1, np.where\n",
        "    (x1[:,0] >= 20), axis=0)\n",
        "x1 = np.delete(x1, np.where\n",
        "    (x1[:,1] >= 20), axis=0)\n",
        "x1 = np.delete(x1, np.where\n",
        "    (x1[:,2] >= 20), axis=0)"
      ],
      "metadata": {
        "id": "Li0PlfN54fgr"
      },
      "execution_count": 9,
      "outputs": []
    },
    {
      "cell_type": "code",
      "source": [
        "x1.shape"
      ],
      "metadata": {
        "colab": {
          "base_uri": "https://localhost:8080/"
        },
        "id": "5xD6LizJwqFA",
        "outputId": "1cd1c060-a84c-4ba6-93e6-ffd3272b895c"
      },
      "execution_count": 10,
      "outputs": [
        {
          "output_type": "execute_result",
          "data": {
            "text/plain": [
              "(120121, 11)"
            ]
          },
          "metadata": {},
          "execution_count": 10
        }
      ]
    },
    {
      "cell_type": "code",
      "source": [
        "x1[:,0][x1[:,0]>=4]=4\n",
        "x1[:,1][x1[:,1]>=4]=4\n",
        "x1[:,2][x1[:,2]>=4]=4"
      ],
      "metadata": {
        "id": "L5g8upWt6s5a"
      },
      "execution_count": 11,
      "outputs": []
    },
    {
      "cell_type": "code",
      "source": [
        "x1[:,3][(x1[:,3]>=0)&(x1[:,3]<2500)]=5\n",
        "x1[:,3][(x1[:,3]>=2500)&(x1[:,3]<5000)]=4\n",
        "x1[:,3][(x1[:,3]>=5000)&(x1[:,3]<7500)]=3\n",
        "x1[:,3][(x1[:,3]>=7500)&(x1[:,3]<10000)]=2\n",
        "x1[:,3][(x1[:,3]>=10000)&(x1[:,3]<50000)]=1\n",
        "x1[:,3][x1[:,3]>=50000]=0"
      ],
      "metadata": {
        "id": "IDfXGAZb7Pr4"
      },
      "execution_count": 12,
      "outputs": []
    },
    {
      "cell_type": "code",
      "source": [
        "x1[:,4][x1[:,4]>=5]=5"
      ],
      "metadata": {
        "id": "38gZKzthBkxk"
      },
      "execution_count": 13,
      "outputs": []
    },
    {
      "cell_type": "code",
      "source": [
        "X=x1[:,0:len(x1[0])-1]\n",
        "Y=x1[:,-1]"
      ],
      "metadata": {
        "id": "hdoOjHCp-TNA"
      },
      "execution_count": 14,
      "outputs": []
    },
    {
      "cell_type": "code",
      "source": [
        "tf.compat.v1.reset_default_graph()\n",
        "#the change of the structure of NAM is in kwargs)\n",
        "#in this demo, first three feature are strong monotonicity, thereby, they are combined in a DNN.\n",
        "Number_of_DNN=10\n",
        "Number_of_Unit=0\n",
        "Trainable=True\n",
        "Use_Shallow=False\n",
        "Model=nam_models.NAM(Number_of_DNN,Number_of_Unit,Trainable,Use_Shallow,feature_dropout = 0.0,dropout = 0.0,kwargs=[1,1,1,1,1,1,1,1,1,1])\n",
        "Model(X)"
      ],
      "metadata": {
        "colab": {
          "base_uri": "https://localhost:8080/"
        },
        "id": "YXNeZ_myAkDa",
        "outputId": "42dfc556-bf12-4bb1-ba95-4cf827f5d7b4"
      },
      "execution_count": 15,
      "outputs": [
        {
          "output_type": "stream",
          "name": "stderr",
          "text": [
            "WARNING:tensorflow:5 out of the last 5 calls to <function FeatureNN.call at 0x7f1a022ae710> triggered tf.function retracing. Tracing is expensive and the excessive number of tracings could be due to (1) creating @tf.function repeatedly in a loop, (2) passing tensors with different shapes, (3) passing Python objects instead of tensors. For (1), please define your @tf.function outside of the loop. For (2), @tf.function has reduce_retracing=True option that can avoid unnecessary retracing. For (3), please refer to https://www.tensorflow.org/guide/function#controlling_retracing and https://www.tensorflow.org/api_docs/python/tf/function for  more details.\n",
            "WARNING:tensorflow:6 out of the last 6 calls to <function FeatureNN.call at 0x7f1a022ae830> triggered tf.function retracing. Tracing is expensive and the excessive number of tracings could be due to (1) creating @tf.function repeatedly in a loop, (2) passing tensors with different shapes, (3) passing Python objects instead of tensors. For (1), please define your @tf.function outside of the loop. For (2), @tf.function has reduce_retracing=True option that can avoid unnecessary retracing. For (3), please refer to https://www.tensorflow.org/guide/function#controlling_retracing and https://www.tensorflow.org/api_docs/python/tf/function for  more details.\n"
          ]
        },
        {
          "output_type": "execute_result",
          "data": {
            "text/plain": [
              "<tf.Tensor: shape=(120121,), dtype=float32, numpy=\n",
              "array([0.96975976, 0.9814321 , 0.98354965, ..., 0.9806927 , 0.9870051 ,\n",
              "       0.9773087 ], dtype=float32)>"
            ]
          },
          "metadata": {},
          "execution_count": 15
        }
      ]
    },
    {
      "cell_type": "code",
      "source": [
        "Model.summary()"
      ],
      "metadata": {
        "colab": {
          "base_uri": "https://localhost:8080/"
        },
        "id": "9mI-IPUYWA33",
        "outputId": "a70f9c18-00cd-4eb8-df71-96e10e0edc1d"
      },
      "execution_count": 16,
      "outputs": [
        {
          "output_type": "stream",
          "name": "stdout",
          "text": [
            "Model: \"nam\"\n",
            "_________________________________________________________________\n",
            " Layer (type)                Output Shape              Param #   \n",
            "=================================================================\n",
            " feature_nn (FeatureNN)      multiple                  13        \n",
            "                                                                 \n",
            " feature_nn_1 (FeatureNN)    multiple                  13        \n",
            "                                                                 \n",
            " feature_nn_2 (FeatureNN)    multiple                  13        \n",
            "                                                                 \n",
            " feature_nn_3 (FeatureNN)    multiple                  13        \n",
            "                                                                 \n",
            " feature_nn_4 (FeatureNN)    multiple                  13        \n",
            "                                                                 \n",
            " feature_nn_5 (FeatureNN)    multiple                  13        \n",
            "                                                                 \n",
            " feature_nn_6 (FeatureNN)    multiple                  13        \n",
            "                                                                 \n",
            " feature_nn_7 (FeatureNN)    multiple                  13        \n",
            "                                                                 \n",
            " feature_nn_8 (FeatureNN)    multiple                  13        \n",
            "                                                                 \n",
            " feature_nn_9 (FeatureNN)    multiple                  13        \n",
            "                                                                 \n",
            "=================================================================\n",
            "Total params: 131\n",
            "Trainable params: 131\n",
            "Non-trainable params: 0\n",
            "_________________________________________________________________\n"
          ]
        }
      ]
    },
    {
      "cell_type": "markdown",
      "source": [
        "##Select which features to be monotonicity"
      ],
      "metadata": {
        "id": "ne_-SiB89IVY"
      }
    },
    {
      "cell_type": "code",
      "source": [
        "def descretize_single(monotonic_feature,lower_bound,upper_bound,spli,X):\n",
        "  individual_output=[]\n",
        "  bar=np.zeros(len(monotonic_feature))\n",
        "  for i in range(len(monotonic_feature)):\n",
        "    individual_output.append(np.linspace(lower_bound[i], upper_bound[i], num=spli[i]))\n",
        "  return individual_output\n",
        "X=X\n",
        "monotonic_feature=[0,1,2,3,4]\n",
        "lower_bound=[0,0,0,0,0]\n",
        "upper_bound=[4,4,4,5,5]\n",
        "spli=[5,5,5,6,6]\n",
        "individual_output=descretize_single(monotonic_feature,lower_bound,upper_bound,spli,X)"
      ],
      "metadata": {
        "id": "dvQN_Zt_eo5o"
      },
      "execution_count": 17,
      "outputs": []
    },
    {
      "cell_type": "code",
      "source": [
        "individual_output"
      ],
      "metadata": {
        "colab": {
          "base_uri": "https://localhost:8080/"
        },
        "id": "Gk51EujcfF39",
        "outputId": "564a59ba-212a-4532-d3a2-8950474ecf20"
      },
      "execution_count": 18,
      "outputs": [
        {
          "output_type": "execute_result",
          "data": {
            "text/plain": [
              "[array([0., 1., 2., 3., 4.]),\n",
              " array([0., 1., 2., 3., 4.]),\n",
              " array([0., 1., 2., 3., 4.]),\n",
              " array([0., 1., 2., 3., 4., 5.]),\n",
              " array([0., 1., 2., 3., 4., 5.])]"
            ]
          },
          "metadata": {},
          "execution_count": 18
        }
      ]
    },
    {
      "cell_type": "code",
      "source": [
        "Model.compile(loss=tf.keras.losses.binary_crossentropy,\n",
        "                  optimizer=tf.keras.optimizers.Adam(learning_rate=0.001),\n",
        "                  metrics='AUC')\n",
        "\n",
        "training_callbacks = [\n",
        "    tf.keras.callbacks.ReduceLROnPlateau(patience = 5, factor = 0.1, min_lr = 0.001, verbose = 1),\n",
        "    tf.keras.callbacks.EarlyStopping(patience = 10, restore_best_weights = True),\n",
        "]\n",
        "\n",
        "Model.fit(X, Y, batch_size=64, epochs=10)"
      ],
      "metadata": {
        "colab": {
          "base_uri": "https://localhost:8080/"
        },
        "id": "7lFJ-ELl9fJE",
        "outputId": "fb020953-1ab5-4f20-dd65-253f05f33613"
      },
      "execution_count": 19,
      "outputs": [
        {
          "output_type": "stream",
          "name": "stdout",
          "text": [
            "Epoch 1/10\n",
            "1877/1877 [==============================] - 19s 5ms/step - loss: 0.3559 - auc: 0.6252\n",
            "Epoch 2/10\n",
            "1877/1877 [==============================] - 9s 5ms/step - loss: 0.2074 - auc: 0.7910\n",
            "Epoch 3/10\n",
            "1877/1877 [==============================] - 10s 5ms/step - loss: 0.1974 - auc: 0.8266\n",
            "Epoch 4/10\n",
            "1877/1877 [==============================] - 9s 5ms/step - loss: 0.1934 - auc: 0.8412\n",
            "Epoch 5/10\n",
            "1877/1877 [==============================] - 10s 5ms/step - loss: 0.1916 - auc: 0.8455\n",
            "Epoch 6/10\n",
            "1877/1877 [==============================] - 10s 5ms/step - loss: 0.1908 - auc: 0.8465\n",
            "Epoch 7/10\n",
            "1877/1877 [==============================] - 9s 5ms/step - loss: 0.1906 - auc: 0.8465\n",
            "Epoch 8/10\n",
            "1877/1877 [==============================] - 9s 5ms/step - loss: 0.1904 - auc: 0.8470\n",
            "Epoch 9/10\n",
            "1877/1877 [==============================] - 10s 5ms/step - loss: 0.1902 - auc: 0.8469\n",
            "Epoch 10/10\n",
            "1877/1877 [==============================] - 9s 5ms/step - loss: 0.1901 - auc: 0.8470\n"
          ]
        },
        {
          "output_type": "execute_result",
          "data": {
            "text/plain": [
              "<keras.callbacks.History at 0x7f19fdb73fa0>"
            ]
          },
          "metadata": {},
          "execution_count": 19
        }
      ]
    },
    {
      "cell_type": "code",
      "source": [
        "each_epoch=10\n",
        "alpha_1=1\n",
        "learning_r=0.001\n",
        "for i in range(each_epoch):\n",
        "  Model.network_learn(X,Y,monotonic_feature,individual_output,alpha_1,None,None,None,None,None,None,None,None,learning_r)\n",
        "  print(\"------------\")"
      ],
      "metadata": {
        "colab": {
          "base_uri": "https://localhost:8080/"
        },
        "id": "9OFEGAL_iXBO",
        "outputId": "6c03f183-7221-4232-ae41-b324b8d1e717"
      },
      "execution_count": 25,
      "outputs": [
        {
          "output_type": "stream",
          "name": "stdout",
          "text": [
            "loss of single monotonicity 0\n",
            "overall loss tf.Tensor(0.18967268, shape=(), dtype=float32)\n",
            "------------\n",
            "loss of single monotonicity 0\n",
            "overall loss tf.Tensor(0.18965948, shape=(), dtype=float32)\n",
            "------------\n",
            "loss of single monotonicity 0\n",
            "overall loss tf.Tensor(0.18967207, shape=(), dtype=float32)\n",
            "------------\n",
            "loss of single monotonicity 0\n",
            "overall loss tf.Tensor(0.18965928, shape=(), dtype=float32)\n",
            "------------\n",
            "loss of single monotonicity 0\n",
            "overall loss tf.Tensor(0.18967146, shape=(), dtype=float32)\n",
            "------------\n",
            "loss of single monotonicity 0\n",
            "overall loss tf.Tensor(0.18965909, shape=(), dtype=float32)\n",
            "------------\n",
            "loss of single monotonicity 0\n",
            "overall loss tf.Tensor(0.18967086, shape=(), dtype=float32)\n",
            "------------\n",
            "loss of single monotonicity 0\n",
            "overall loss tf.Tensor(0.1896589, shape=(), dtype=float32)\n",
            "------------\n",
            "loss of single monotonicity 0\n",
            "overall loss tf.Tensor(0.18967031, shape=(), dtype=float32)\n",
            "------------\n",
            "loss of single monotonicity 0\n",
            "overall loss tf.Tensor(0.18965869, shape=(), dtype=float32)\n",
            "------------\n"
          ]
        }
      ]
    },
    {
      "cell_type": "markdown",
      "source": [
        "##Visulization"
      ],
      "metadata": {
        "id": "e7h16umH9SYn"
      }
    },
    {
      "cell_type": "markdown",
      "source": [
        "###Monotonicity features(1,2,3,4,5)"
      ],
      "metadata": {
        "id": "26ZdU1odAfJc"
      }
    },
    {
      "cell_type": "code",
      "source": [
        "ind=0\n",
        "visu=[]\n",
        "for i in range(len(X[0])):\n",
        "  if(i in monotonic_feature):\n",
        "    visui=[]\n",
        "    for j in range(len(individual_output[ind])):\n",
        "      temp=np.zeros(len(X[0]))\n",
        "      temp[i]=individual_output[ind][j]\n",
        "      individual_output_now = Model.calc_outputs([temp], training=True)\n",
        "      visui.append(individual_output_now[i])\n",
        "    visu.append(visui)\n",
        "    ind+=1\n",
        "\n",
        "fig = plt.figure(figsize=(10,12))\n",
        "plt.subplot(10, 2, 1)\n",
        "plt.xlabel('NumberOfTime30-59DaysPastDueNotWorse')\n",
        "plt.ylabel('Value')\n",
        "plt.plot(visu[0])\n",
        "plt.grid()\n",
        "\n",
        "plt.subplot(10, 2, 2)\n",
        "plt.xlabel('NumberOfTimes90DaysLate')\n",
        "plt.ylabel('Value')\n",
        "plt.plot(visu[1])\n",
        "plt.grid()\n",
        "\n",
        "plt.subplot(10, 2, 5)\n",
        "plt.xlabel('NumberOfTime60-89DaysPastDueNotWorse')\n",
        "plt.ylabel('Value')\n",
        "plt.plot(visu[2])\n",
        "plt.grid()\n",
        "\n",
        "\n",
        "plt.subplot(10, 2, 6)\n",
        "plt.xlabel('Income')\n",
        "plt.ylabel('Value')\n",
        "plt.plot(visu[3])\n",
        "plt.grid()\n",
        "\n",
        "\n",
        "plt.subplot(10, 2, 9)\n",
        "plt.xlabel('Number of dependent')\n",
        "plt.ylabel('Value')\n",
        "plt.plot(visu[4])\n",
        "plt.grid()"
      ],
      "metadata": {
        "colab": {
          "base_uri": "https://localhost:8080/",
          "height": 534
        },
        "id": "FNBGyqLS8J0d",
        "outputId": "d6816127-a460-4050-a77a-4a08fd64e031"
      },
      "execution_count": 26,
      "outputs": [
        {
          "output_type": "display_data",
          "data": {
            "text/plain": [
              "<Figure size 1000x1200 with 5 Axes>"
            ],
            "image/png": "[encoded data removed]"
          },
          "metadata": {}
        }
      ]
    },
    {
      "cell_type": "markdown",
      "source": [
        "###None monotonicity features(6,7,8,9,10)"
      ],
      "metadata": {
        "id": "f_xJNrikAjLS"
      }
    },
    {
      "cell_type": "code",
      "source": [
        "def none_descretize_single(monotonic_feature,lower_bound,upper_bound,spli,X):\n",
        "  none_individual_output=[]\n",
        "  bar=np.zeros(len(monotonic_feature))\n",
        "  for i in range(len(monotonic_feature)):\n",
        "    none_individual_output.append(np.linspace(lower_bound[i], upper_bound[i], num=spli[i]))\n",
        "  return none_individual_output\n",
        "\n",
        "\n",
        "none_monotonic_feature=[5,6,7,8,9]\n",
        "none_lower_bound=[0,0,0,0,0]\n",
        "none_upper_bound=[10,10,10,10,10]\n",
        "none_spli=[11,11,11,11,11]\n",
        "none_individual_output=none_descretize_single(none_monotonic_feature,none_lower_bound,none_upper_bound,none_spli,X)"
      ],
      "metadata": {
        "id": "waIAJ1LYAn2f"
      },
      "execution_count": 27,
      "outputs": []
    },
    {
      "cell_type": "code",
      "source": [
        "ind=0\n",
        "visu=[]\n",
        "for i in range(len(X[0])):\n",
        "  if(i in none_monotonic_feature):\n",
        "    visui=[]\n",
        "    for j in range(len(none_individual_output[ind])):\n",
        "      temp=np.zeros(len(X[0]))\n",
        "      temp[i]=none_individual_output[ind][j]\n",
        "      none_individual_output_now = Model.calc_outputs([temp], training=True)\n",
        "      visui.append(none_individual_output_now[i])\n",
        "    visu.append(visui)\n",
        "    ind+=1\n",
        "\n",
        "\n",
        "fig = plt.figure(figsize=(10,14))\n",
        "plt.subplot(10, 2, 1)\n",
        "plt.xlabel('Number of Open Credit Lines and Loans')\n",
        "plt.ylabel('Value')\n",
        "plt.plot(visu[0])\n",
        "plt.grid()\n",
        "\n",
        "plt.subplot(10, 2, 2)\n",
        "plt.xlabel('Revolving Utilization of Unsecured Lines')\n",
        "plt.ylabel('Value')\n",
        "plt.plot(visu[1])\n",
        "plt.grid()\n",
        "\n",
        "plt.subplot(10, 2, 5)\n",
        "plt.xlabel('Number Real Estate Loans or Lines')\n",
        "plt.ylabel('Value')\n",
        "plt.plot(visu[2])\n",
        "plt.grid()\n",
        "\n",
        "plt.subplot(10, 2, 6)\n",
        "plt.xlabel('Age')\n",
        "plt.ylabel('Value')\n",
        "plt.plot(visu[3])\n",
        "plt.grid()\n",
        "\n",
        "plt.subplot(10, 2, 9)\n",
        "plt.xlabel('Debt Ratio')\n",
        "plt.ylabel('Value')\n",
        "plt.plot(visu[4])\n",
        "plt.grid()"
      ],
      "metadata": {
        "colab": {
          "base_uri": "https://localhost:8080/",
          "height": 612
        },
        "id": "yw_V6n2MAw43",
        "outputId": "6b77f170-ebd3-4a05-f5e1-2fa7741ff1f1"
      },
      "execution_count": 28,
      "outputs": [
        {
          "output_type": "display_data",
          "data": {
            "text/plain": [
              "<Figure size 1000x1400 with 5 Axes>"
            ],
            "image/png": "[encoded data removed]"
          },
          "metadata": {}
        }
      ]
    },
    {
      "cell_type": "markdown",
      "source": [
        "#AUC of the Model"
      ],
      "metadata": {
        "id": "HX7COL_SXlEl"
      }
    },
    {
      "cell_type": "code",
      "source": [
        "from sklearn import metrics\n",
        "from sklearn.metrics import roc_auc_score\n",
        "y_pred=np.array(Model(X))\n",
        "roc_auc_score(Y, y_pred)"
      ],
      "metadata": {
        "colab": {
          "base_uri": "https://localhost:8080/"
        },
        "id": "fhQ7SZ_hXmYs",
        "outputId": "47e07f46-c9eb-41da-b254-446ee7abd431"
      },
      "execution_count": 29,
      "outputs": [
        {
          "output_type": "execute_result",
          "data": {
            "text/plain": [
              "0.8492379106254206"
            ]
          },
          "metadata": {},
          "execution_count": 29
        }
      ]
    }
  ]
}